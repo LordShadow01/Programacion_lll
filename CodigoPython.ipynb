{
  "nbformat": 4,
  "nbformat_minor": 0,
  "metadata": {
    "colab": {
      "provenance": [],
      "authorship_tag": "ABX9TyPApEDUZoI73XkU/n2liLeE",
      "include_colab_link": true
    },
    "kernelspec": {
      "name": "python3",
      "display_name": "Python 3"
    },
    "language_info": {
      "name": "python"
    }
  },
  "cells": [
    {
      "cell_type": "markdown",
      "metadata": {
        "id": "view-in-github",
        "colab_type": "text"
      },
      "source": [
        "<a href=\"https://colab.research.google.com/github/LordShadow01/Programacion_lll/blob/main/CodigoPython.ipynb\" target=\"_parent\"><img src=\"https://colab.research.google.com/assets/colab-badge.svg\" alt=\"Open In Colab\"/></a>"
      ]
    },
    {
      "cell_type": "code",
      "execution_count": null,
      "metadata": {
        "colab": {
          "base_uri": "https://localhost:8080/"
        },
        "id": "BCiVoZvWNolz",
        "outputId": "daf54a68-3298-4c80-f96a-1c2200b7e4b3"
      },
      "outputs": [
        {
          "output_type": "stream",
          "name": "stdout",
          "text": [
            "Hola Mundo\n",
            "Bienvenidos chicos a programacion computacional lll\n"
          ]
        }
      ],
      "source": [
        "print(\"Hola Mundo\")\n",
        "print(\"Bienvenidos chicos a programacion computacional lll\")"
      ]
    },
    {
      "cell_type": "code",
      "source": [
        "nombre = \"Jonathan Rosales\"\n",
        "edad = 20\n",
        "print(nombre, edad)\n",
        "\n",
        "edad = \"Veinte\"\n",
        "print(\"Tu edad es\", edad)"
      ],
      "metadata": {
        "colab": {
          "base_uri": "https://localhost:8080/"
        },
        "id": "LK4fKrZpOJjI",
        "outputId": "d6ec1e79-26f5-4dd1-f23d-3dcb08feec6f"
      },
      "execution_count": null,
      "outputs": [
        {
          "output_type": "stream",
          "name": "stdout",
          "text": [
            "Jonathan Rosales 20\n",
            "Tu edad es Veinte\n"
          ]
        }
      ]
    },
    {
      "cell_type": "code",
      "source": [
        "num1 = 20\n",
        "num2= 8.9\n",
        "suma = num1 + num2\n",
        "print(\"la suma es:\",suma)"
      ],
      "metadata": {
        "colab": {
          "base_uri": "https://localhost:8080/"
        },
        "id": "kIcdVeS9Od0s",
        "outputId": "7ca98b70-3802-4e0b-fb2a-ec3b87fb7f1e"
      },
      "execution_count": null,
      "outputs": [
        {
          "output_type": "stream",
          "name": "stdout",
          "text": [
            "la suma es: 28.9\n"
          ]
        }
      ]
    },
    {
      "cell_type": "code",
      "source": [
        "#Funciones\n",
        "\n",
        "num1 = float(input(\"Ingresa el primer número: \"))\n",
        "num2 = float(input(\"Ingresa el segundo número: \"))\n",
        "suma = num1 + num2\n",
        "print(\"La suma es:\", suma)\n"
      ],
      "metadata": {
        "colab": {
          "base_uri": "https://localhost:8080/"
        },
        "id": "5mtudcxuOlzQ",
        "outputId": "b15daf28-c5f9-4421-ff8b-d57a74caa6f1"
      },
      "execution_count": null,
      "outputs": [
        {
          "output_type": "stream",
          "name": "stdout",
          "text": [
            "Ingresa el primer número: 2\n",
            "Ingresa el segundo número: 2\n",
            "La suma es: 4.0\n"
          ]
        }
      ]
    },
    {
      "cell_type": "code",
      "source": [
        "num1 = float(input(\"Num1: \"))\n",
        "num2 = float(input(\"Num2: \"))\n",
        "resta = num1 - num2\n",
        "print(\"La resta es:\", resta)\n"
      ],
      "metadata": {
        "colab": {
          "base_uri": "https://localhost:8080/"
        },
        "id": "2vOr5waHP8mc",
        "outputId": "45ac7d02-2448-45d0-b3f9-999c07e9534f"
      },
      "execution_count": null,
      "outputs": [
        {
          "output_type": "stream",
          "name": "stdout",
          "text": [
            "Num1: 3\n",
            "Num2: 2\n",
            "La resta es: 1.0\n"
          ]
        }
      ]
    },
    {
      "cell_type": "code",
      "source": [
        "#Uso de Funciones Y Tarea\n",
        "#Resta\n",
        "res1 = int(input(\"ingrese el primer numero: \"))\n",
        "res2 = int(input(\"ingrese el segundo numero: \"))\n",
        "\n",
        "Respuesta = res1 - res2\n",
        "print(\"la resta de los numeros es:\", Respuesta)\n",
        "\n"
      ],
      "metadata": {
        "colab": {
          "base_uri": "https://localhost:8080/"
        },
        "id": "pIYPMQSAQqlq",
        "outputId": "db9cc47a-62be-4d73-a460-bb8e338db815"
      },
      "execution_count": null,
      "outputs": [
        {
          "output_type": "stream",
          "name": "stdout",
          "text": [
            "ingrese el primer numero: 2\n",
            "ingrese el segundo numero: 2\n",
            "la resta de los numeros es: 0\n"
          ]
        }
      ]
    },
    {
      "cell_type": "code",
      "source": [
        "#Resta de 2 Numeros\n",
        "def restar_dos_numeros():\n",
        "    num1 = int(input(\"Ingrese el primer número: \"))\n",
        "    num2 = int(input(\"Ingrese el segundo número: \"))\n",
        "    return num1 - num2\n",
        "\n",
        "# Usando el resultado\n",
        "resultado = restar_dos_numeros()\n",
        "print(\"La resta de los números es:\", resultado)"
      ],
      "metadata": {
        "colab": {
          "base_uri": "https://localhost:8080/"
        },
        "id": "tnkIebf0RB2O",
        "outputId": "0a1cdd81-3e9a-4d72-9c73-f41e330f84e1"
      },
      "execution_count": null,
      "outputs": [
        {
          "output_type": "stream",
          "name": "stdout",
          "text": [
            "Ingrese el primer número: 5\n",
            "Ingrese el segundo número: 4\n",
            "La resta de los números es: 1\n"
          ]
        }
      ]
    },
    {
      "cell_type": "code",
      "source": [
        "#Hacer un ejercicio en python haciendo uso de las funciones , que reste dos numeros introducirlos por el usuario Tarea....\n",
        "\n",
        "\n",
        "#Ejercicio que convierta grados celcius a farenheit\n",
        "def  celciusFarenheit(c):\n",
        "  return c*1.8 + 32"
      ],
      "metadata": {
        "id": "Zkxm4FZ9RQWu"
      },
      "execution_count": null,
      "outputs": []
    },
    {
      "cell_type": "code",
      "source": [
        "c= int(input(\"Grados c: \"))\n",
        "f= celciusFarenheit(c)\n",
        "print(\"F \",f)"
      ],
      "metadata": {
        "colab": {
          "base_uri": "https://localhost:8080/"
        },
        "id": "4Vcs0eNDRfxK",
        "outputId": "ced60703-1fb4-4218-cf8d-a09de1a564c1"
      },
      "execution_count": null,
      "outputs": [
        {
          "output_type": "stream",
          "name": "stdout",
          "text": [
            "Grados c: 4\n",
            "F  39.2\n"
          ]
        }
      ]
    },
    {
      "cell_type": "code",
      "source": [
        "#ejercicio de grados farenheit a celcius\n",
        "def farenheitCelcius(f):\n",
        "  return (f-32) / 1.8 #5/9"
      ],
      "metadata": {
        "id": "HVHJi29QRo8D"
      },
      "execution_count": null,
      "outputs": []
    },
    {
      "cell_type": "code",
      "source": [
        "f= float(input(\"Grados f: \"))\n",
        "c= farenheitCelcius(f)\n",
        "print(\"C \",c)"
      ],
      "metadata": {
        "colab": {
          "base_uri": "https://localhost:8080/"
        },
        "id": "6gbuMnp5Rtw1",
        "outputId": "1bd3d4cd-45fc-4c1f-9886-a8f9e0875a7b"
      },
      "execution_count": null,
      "outputs": [
        {
          "output_type": "stream",
          "name": "stdout",
          "text": [
            "Grados f: 3\n",
            "C  -16.11111111111111\n"
          ]
        }
      ]
    },
    {
      "cell_type": "code",
      "source": [
        "#ejercicio de celcius a kelvin\n",
        "def celciusKelvin(c):\n",
        "  return c + 273.15"
      ],
      "metadata": {
        "id": "yQYpk-QhRzTb"
      },
      "execution_count": null,
      "outputs": []
    },
    {
      "cell_type": "code",
      "source": [
        "c= float(input(\"Grados c: \"))\n",
        "k= celciusKelvin(c)\n",
        "print(\"K \",k)"
      ],
      "metadata": {
        "colab": {
          "base_uri": "https://localhost:8080/"
        },
        "id": "FdGv9pLbR3fk",
        "outputId": "f00221ff-dcdb-4da5-c2c1-cc89b43d16dd"
      },
      "execution_count": null,
      "outputs": [
        {
          "output_type": "stream",
          "name": "stdout",
          "text": [
            "Grados c: 2\n",
            "K  275.15\n"
          ]
        }
      ]
    },
    {
      "cell_type": "code",
      "source": [
        "#Ejercicio que calcule el suelto de un empleado segun el numero de horas trabajadas  y el valor de horas\n",
        "def sueldo(numHrs, valorXhr):\n",
        "    sueldo = numHrs * valorXhr * 30\n",
        "    return sueldo\n",
        "\n",
        "numHrs = float(input(\"Hrs: \"))\n",
        "valorXhr = float(input(\"valorXhr: \"))\n",
        "sueldo = sueldo(numHrs, valorXhr)\n",
        "print(\"sueldo: \", sueldo)"
      ],
      "metadata": {
        "colab": {
          "base_uri": "https://localhost:8080/"
        },
        "id": "QqP5Bl8rR-Hs",
        "outputId": "53f15550-5ae2-407a-a6a2-594374f91d3d"
      },
      "execution_count": null,
      "outputs": [
        {
          "output_type": "stream",
          "name": "stdout",
          "text": [
            "Hrs: 5\n",
            "valorXhr: 1\n",
            "sueldo:  150.0\n"
          ]
        }
      ]
    },
    {
      "cell_type": "code",
      "source": [
        "#Ejercicio  que permita elevar un numero a un exponente\n",
        "\n",
        "def exponenciacion(b,e):\n",
        "  return b**e\n",
        "\n",
        "b = float(input(\"Base: \"))\n",
        "e = float(input(\"Exponente: \"))\n",
        "resultado = exponenciacion(b,e)\n",
        "print(\"El numero :\", b,\", elevado a\",e,\",el resultado es:\",resultado)"
      ],
      "metadata": {
        "colab": {
          "base_uri": "https://localhost:8080/"
        },
        "id": "zxy4ja7BSUHY",
        "outputId": "40caa258-1543-4004-8f88-cd8db146b6cb"
      },
      "execution_count": null,
      "outputs": [
        {
          "output_type": "stream",
          "name": "stdout",
          "text": [
            "Base: 3\n",
            "Exponente: 1\n",
            "El numero : 3.0 , elevado a 1.0 ,el resultado es: 3.0\n"
          ]
        }
      ]
    },
    {
      "cell_type": "code",
      "source": [
        "#Uso de funcion lambda y preconstruidas con map, filter y reduce......................\n",
        "\n",
        "\n",
        "\n",
        "# ....We can't fix it if we never face it(Free)\n",
        "\n",
        "def suma(a, b):\n",
        "  return a + b\n",
        "\n",
        "a = float(input(\"Num1: \"))\n",
        "b = float(input(\"Num2: \"))\n",
        "resultado_suma = suma(a, b)\n",
        "print(\"La suma es:\", resultado_suma)"
      ],
      "metadata": {
        "colab": {
          "base_uri": "https://localhost:8080/"
        },
        "id": "c8UjhYrxTRYy",
        "outputId": "a22f72a7-6e54-4b40-ea46-c6213575a8d2"
      },
      "execution_count": null,
      "outputs": [
        {
          "output_type": "stream",
          "name": "stdout",
          "text": [
            "Num1: 2\n",
            "Num2: 4\n",
            "La suma es: 6.0\n"
          ]
        }
      ]
    },
    {
      "cell_type": "code",
      "source": [
        "# Ejemplo de uso de una función anónima (lambda) para sumar\n",
        "a = float(input(\"Num1: \"))\n",
        "b = float(input(\"Num2: \"))\n",
        "\n",
        "sum_lambda = lambda a, b: a + b\n",
        "print(\"La suma de\", a, \"más\", b, \"es igual a\", sum_lambda(a, b))"
      ],
      "metadata": {
        "colab": {
          "base_uri": "https://localhost:8080/"
        },
        "id": "QocZmV45WAEy",
        "outputId": "c4cb6715-dcd3-4062-aa35-9f1e54c2a4ce"
      },
      "execution_count": null,
      "outputs": [
        {
          "output_type": "stream",
          "name": "stdout",
          "text": [
            "Num1: 3\n",
            "Num2: 4\n",
            "La suma de 3.0 más 4.0 es igual a 7.0\n"
          ]
        }
      ]
    },
    {
      "cell_type": "code",
      "source": [
        "# map() con función tradicional\n",
        "def extraer_primera_letra(dia):\n",
        "  return dia[0]\n",
        "\n",
        "semana = [\"Domingo\", \"Lunes\", \"Martes\", \"Miércoles\", \"Jueves\", \"Viernes\", \"Sábado\"]\n",
        "\n",
        "primera_letra_dia = list(map(extraer_primera_letra, semana))\n",
        "print(primera_letra_dia)\n",
        "\n",
        "mayus_semana = list(map(lambda dia: dia.upper(), semana))\n",
        "print(mayus_semana)"
      ],
      "metadata": {
        "colab": {
          "base_uri": "https://localhost:8080/"
        },
        "id": "mMvGSeSKWLCD",
        "outputId": "e3d349b3-3e42-4f15-9ea5-aa14d1d7c2a3"
      },
      "execution_count": null,
      "outputs": [
        {
          "output_type": "stream",
          "name": "stdout",
          "text": [
            "['D', 'L', 'M', 'M', 'J', 'V', 'S']\n",
            "['DOMINGO', 'LUNES', 'MARTES', 'MIÉRCOLES', 'JUEVES', 'VIERNES', 'SÁBADO']\n"
          ]
        }
      ]
    },
    {
      "cell_type": "code",
      "source": [
        "# map() para calcular la potencia de una lista de números\n",
        "numeros = [2, 4, 6, 8, 7, 9]\n",
        "potencia = int(input(\"Potencia: \"))\n",
        "\n",
        "numero_potencia = list(map(lambda num: num**potencia, numeros))\n",
        "print(numero_potencia)"
      ],
      "metadata": {
        "colab": {
          "base_uri": "https://localhost:8080/"
        },
        "id": "JIv_U45bW0hx",
        "outputId": "30e8810a-fd52-493c-86bb-1d7d0a573bfc"
      },
      "execution_count": null,
      "outputs": [
        {
          "output_type": "stream",
          "name": "stdout",
          "text": [
            "Potencia: 3\n",
            "[8, 64, 216, 512, 343, 729]\n"
          ]
        }
      ]
    },
    {
      "cell_type": "code",
      "source": [
        "# map() para generar una tabla de multiplicar\n",
        "ntabla = int(input(\"Tabla:\"))\n",
        "numeros_tabla = [1, 2, 3, 4, 5, 6, 7, 8, 9, 10]\n",
        "\n",
        "tabla_multiplicar = list(map(lambda num: num * ntabla, numeros_tabla))\n",
        "print(tabla_multiplicar)"
      ],
      "metadata": {
        "colab": {
          "base_uri": "https://localhost:8080/"
        },
        "id": "jxOA_kVbW7L3",
        "outputId": "63a92a1d-ed37-46ce-9bbd-8d7b5576a7f2"
      },
      "execution_count": null,
      "outputs": [
        {
          "output_type": "stream",
          "name": "stdout",
          "text": [
            "Tabla:4\n",
            "[4, 8, 12, 16, 20, 24, 28, 32, 36, 40]\n"
          ]
        }
      ]
    },
    {
      "cell_type": "code",
      "source": [
        "# filter() para encontrar números pares e impares\n",
        "serie = [5, 6, 9, 2, 7, 8]\n",
        "\n",
        "pares = list(filter(lambda num: num % 2 == 0, serie))\n",
        "print(\"Pares:\", pares)\n",
        "\n",
        "impares = list(filter(lambda num: num % 2 != 0, serie))\n",
        "print(\"Impares:\", impares)"
      ],
      "metadata": {
        "colab": {
          "base_uri": "https://localhost:8080/"
        },
        "id": "E9lVUZZ2XQ2a",
        "outputId": "05a318de-2661-4ffa-a3d1-7e1db4097fd0"
      },
      "execution_count": null,
      "outputs": [
        {
          "output_type": "stream",
          "name": "stdout",
          "text": [
            "Pares: [6, 2, 8]\n",
            "Impares: [5, 9, 7]\n"
          ]
        }
      ]
    },
    {
      "cell_type": "code",
      "source": [
        "# filter() con entrada del usuario\n",
        "serie_user = input(\"Introduce una serie de números separados por comas (ej: 5,2,8,1): \")\n",
        "serie_user_lista = serie_user.split(\",\")\n",
        "\n",
        "pares_user = list(filter(lambda num: int(num) % 2 == 0, serie_user_lista))\n",
        "print(\"Pares:\", pares_user)\n",
        "\n",
        "impares_user = list(filter(lambda num: int(num) % 2 != 0, serie_user_lista))\n",
        "print(\"Impares:\", impares_user)"
      ],
      "metadata": {
        "colab": {
          "base_uri": "https://localhost:8080/"
        },
        "id": "oGXL80-IXZX6",
        "outputId": "11291ae2-b391-49b2-fcab-5dc9ec808131"
      },
      "execution_count": null,
      "outputs": [
        {
          "output_type": "stream",
          "name": "stdout",
          "text": [
            "Introduce una serie de números separados por comas (ej: 5,2,8,1): 2,3,4,5\n",
            "Pares: ['2', '4']\n",
            "Impares: ['3', '5']\n"
          ]
        }
      ]
    },
    {
      "cell_type": "code",
      "source": [
        "# Hacer un ejercicio en python usando la funcion filter y lambda que de una serie de notas introducidas por el usuario,\n",
        "# establezca cuantos pasan la materia (>6) y cuantos se quedan (<6).\n",
        "\n",
        "notas_str = input(\"Introduce las notas separadas por comas (ej: 8,5,7.5,4): \")\n",
        "notas_lista = [float(nota) for nota in notas_str.split(\",\")]\n",
        "\n",
        "aprobados = list(filter(lambda nota: nota >= 6, notas_lista))\n",
        "reprobados = list(filter(lambda nota: nota < 6, notas_lista))\n",
        "\n",
        "print(f\"Notas aprobadas: {aprobados} ({len(aprobados)} alumnos)\")\n",
        "print(f\"Notas reprobadas: {reprobados} ({len(reprobados)} alumnos)\")"
      ],
      "metadata": {
        "colab": {
          "base_uri": "https://localhost:8080/"
        },
        "id": "uA4PAkRQXoIW",
        "outputId": "752e922e-3801-45a3-da14-0a3d3574cdf6"
      },
      "execution_count": null,
      "outputs": [
        {
          "output_type": "stream",
          "name": "stdout",
          "text": [
            "Introduce las notas separadas por comas (ej: 8,5,7.5,4): 3,4,7,8,9\n",
            "Notas aprobadas: [7.0, 8.0, 9.0] (3 alumnos)\n",
            "Notas reprobadas: [3.0, 4.0] (2 alumnos)\n"
          ]
        }
      ]
    },
    {
      "cell_type": "code",
      "source": [
        "# reduce() para sumar todos los elementos de una lista\n",
        "from functools import reduce\n",
        "\n",
        "numeros = [5, 4, 9, 6, 8, 2, 3]\n",
        "\n",
        "suma_total = reduce(lambda acumulador, num: acumulador + num, numeros)\n",
        "print(\"La suma es:\", suma_total)\n",
        "\n",
        "suma_pares = reduce(lambda acumulador, num: acumulador + num, filter(lambda num: num % 2 == 0, numeros))\n",
        "print(\"La suma de los pares es:\", suma_pares)"
      ],
      "metadata": {
        "colab": {
          "base_uri": "https://localhost:8080/"
        },
        "id": "S9u3rmKDYG15",
        "outputId": "c9fe585f-6919-4f3e-cfab-61d8c0031310"
      },
      "execution_count": null,
      "outputs": [
        {
          "output_type": "stream",
          "name": "stdout",
          "text": [
            "La suma es: 37\n",
            "La suma de los pares es: 20\n"
          ]
        }
      ]
    },
    {
      "cell_type": "code",
      "source": [
        "#reduce\n",
        "from functools import reduce\n",
        "\n",
        "numeros = [5, 4, 9, 6, 8, 2, 3]\n",
        "suma = reduce(lambda acum, num: num+acum,numeros)\n",
        "\n",
        "sumaPares = reduce(lambda num, acum: num+acum, filter(lambda num: num%2==0,numeros))\n",
        "sumaPar = reduce(lambda acum, num: acum + num if num%2==0 else acum, numeros, 0)\n",
        "\n",
        "print(\"La suma es:\", suma)\n",
        "print(\"La suma de los pares es:\", sumaPares)\n",
        "print(\"La suma de los pares es:\", sumaPar)"
      ],
      "metadata": {
        "colab": {
          "base_uri": "https://localhost:8080/"
        },
        "id": "0QnixupMZ6TZ",
        "outputId": "bfbb2f73-9fc2-4dde-e7b5-123f074e2a28"
      },
      "execution_count": null,
      "outputs": [
        {
          "output_type": "stream",
          "name": "stdout",
          "text": [
            "La suma es: 37\n",
            "La suma de los pares es: 20\n",
            "La suma de los pares es: 20\n"
          ]
        }
      ]
    },
    {
      "cell_type": "code",
      "source": [
        "#tupla ejemplo\n",
        "tupla =(5,2,3,7,8,5)\n",
        "print(\"Turpla:\",tupla, \"Primer elemento:\",tupla[0],\"El ultimo 5 parece\",tupla.count(5))\n",
        "print(\"El ultimo elemento es:\",tupla[-1])\n",
        "print(\"Rango:\", tupla[0:5])"
      ],
      "metadata": {
        "colab": {
          "base_uri": "https://localhost:8080/"
        },
        "id": "xb2iMeHkfi5i",
        "outputId": "1b1649b4-afe9-4948-b458-abb19f4a0a72"
      },
      "execution_count": null,
      "outputs": [
        {
          "output_type": "stream",
          "name": "stdout",
          "text": [
            "Turpla: (5, 2, 3, 7, 8, 5) Primer elemento: 5 El ultimo 5 parece 2\n",
            "El ultimo elemento es: 5\n",
            "Rango: (5, 2, 3, 7, 8)\n"
          ]
        }
      ]
    },
    {
      "cell_type": "markdown",
      "source": [
        "##sacar un dia en una semana"
      ],
      "metadata": {
        "id": "xx40nQC3j9to"
      }
    },
    {
      "cell_type": "code",
      "source": [
        "## sacar un dia en una semana\n",
        "import datetime\n",
        "fecha = datetime.date.today()\n",
        "\n",
        "semana = (\"Domingo\", \"Lunes\", \"Martes\", \"Miércoles\", \"Jueves\", \"Viernes\", \"Sábado\")\n",
        "mes = (\"Enero\", \"Febrero\", \"Marzo\", \"Abril\", \"Mayo\", \"Junio\", \"Julio\", \"Agosto\", \"Septiembre\", \"Octubre\", \"Noviembre\", \"Diciembre\")\n",
        "dia = fecha.day\n",
        "mes = fecha.month\n",
        "year = fecha.year\n",
        "diasemana = semana[fecha.isoweekday()]\n",
        "\n",
        "print(fecha, fecha.isoweekday(),diasemana)\n",
        "print(dia,mes,year)"
      ],
      "metadata": {
        "colab": {
          "base_uri": "https://localhost:8080/"
        },
        "id": "ia5N55jzixlC",
        "outputId": "1e51ac1b-f696-4f17-f815-bfeb48a6e152"
      },
      "execution_count": null,
      "outputs": [
        {
          "output_type": "stream",
          "name": "stdout",
          "text": [
            "2025-08-12 2 Martes\n",
            "12 8 2025\n"
          ]
        }
      ]
    },
    {
      "cell_type": "code",
      "source": [
        "import datetime\n",
        "fecha = datetime.date.today()\n",
        "\n",
        "semana = (\"Domingo\", \"Lunes\", \"Martes\", \"Miércoles\", \"Jueves\", \"Viernes\", \"Sábado\")\n",
        "meses = (\"\",\"Enero\", \"Febrero\", \"Marzo\", \"Abril\", \"Mayo\", \"Junio\", \"Julio\", \"Agosto\", \"Septiembre\", \"Octubre\", \"Noviembre\", \"Diciembre\")\n",
        "dia = fecha.day\n",
        "mes = fecha.month\n",
        "year = fecha.year\n",
        "\n",
        "diasemana = semana[fecha.isoweekday()]\n",
        "\n",
        "print(diasemana,dia,\"del\",meses[mes],\"del\",year)\n",
        "print(fecha, fecha.isoweekday(),diasemana)\n",
        "print(dia,mes,year)"
      ],
      "metadata": {
        "colab": {
          "base_uri": "https://localhost:8080/"
        },
        "id": "bRqQbIlbkJD-",
        "outputId": "cdd9427e-0041-44ee-9194-e23f9ae3522a"
      },
      "execution_count": null,
      "outputs": [
        {
          "output_type": "stream",
          "name": "stdout",
          "text": [
            "Martes 12 del Agosto del 2025\n",
            "2025-08-12 2 Martes\n",
            "12 8 2025\n"
          ]
        }
      ]
    },
    {
      "cell_type": "markdown",
      "source": [
        "##Las Listas"
      ],
      "metadata": {
        "id": "UR1T6NgWmbhK"
      }
    },
    {
      "cell_type": "code",
      "source": [
        "lista =[5,8,9,4,\"program lll\",True, [4,8,9,[8,9,4]]]\n",
        "print(lista)"
      ],
      "metadata": {
        "colab": {
          "base_uri": "https://localhost:8080/"
        },
        "id": "lt5zJBrJmgLi",
        "outputId": "e18c0912-cdfc-4301-91fb-847899773d84"
      },
      "execution_count": null,
      "outputs": [
        {
          "output_type": "stream",
          "name": "stdout",
          "text": [
            "[5, 8, 9, 4, 'program lll', True, [4, 8, 9, [8, 9, 4]]]\n"
          ]
        }
      ]
    },
    {
      "cell_type": "markdown",
      "source": [
        "## Hacer un ejercicio en python que obtenga la nota final de progra lll del computo l,haciendo uso de las listas y de las tuplas"
      ],
      "metadata": {
        "id": "NMk8LISQnfkO"
      }
    },
    {
      "cell_type": "code",
      "source": [
        "def calcularPromedio(nota,notas):\n",
        "  return notas[1]*0.3 + nota ##8*0.3 + 9*0.3 +10*"
      ],
      "metadata": {
        "id": "Au41KB3FoE2P"
      },
      "execution_count": null,
      "outputs": []
    },
    {
      "cell_type": "code",
      "source": [
        "from functools import reduce\n",
        "\n",
        "notas = [\n",
        "    [\"lab1\", 9, 0.3],\n",
        "    [\"lab2\", 9, 0.3],\n",
        "    [\"parcial\", 10, 0.4]\n",
        "]\n",
        "\n",
        "def calcularPromedio(acumulado, nota):\n",
        "    return acumulado + nota[1] * nota[2]\n",
        "\n",
        "prom = reduce(calcularPromedio, notas, 0)\n",
        "\n",
        "print(\"Nota final:\", round(prom, 2))\n"
      ],
      "metadata": {
        "colab": {
          "base_uri": "https://localhost:8080/"
        },
        "id": "Tw185iIMoRll",
        "outputId": "5113b95a-ceb4-4a9a-8d87-bf956bc4e48b"
      },
      "execution_count": null,
      "outputs": [
        {
          "output_type": "stream",
          "name": "stdout",
          "text": [
            "Nota final: 9.4\n"
          ]
        }
      ]
    },
    {
      "cell_type": "code",
      "source": [
        "notas = {\"lab1\": 9, \"lab2\": 9, \"parcial\": 10}\n",
        "prom = notas[\"lab1\"] * 0.3 + notas[\"lab2\"] * 0.3 + notas[\"parcial\"] * 0.4\n",
        "print(\"Nota final:\", int(prom * 10) / 10)\n",
        "\n",
        "\n"
      ],
      "metadata": {
        "colab": {
          "base_uri": "https://localhost:8080/"
        },
        "id": "tYgECQxcqFgp",
        "outputId": "15f02f3b-82f8-44aa-fcc0-3ca99e1e1ded"
      },
      "execution_count": null,
      "outputs": [
        {
          "output_type": "stream",
          "name": "stdout",
          "text": [
            "Nota final: 9.3\n"
          ]
        }
      ]
    },
    {
      "cell_type": "markdown",
      "source": [
        "# **Nota Final de Progra III usando reduce**"
      ],
      "metadata": {
        "id": "4Zk6qym5wOAu"
      }
    },
    {
      "cell_type": "code",
      "source": [
        "from functools import reduce\n",
        "\n",
        "def calcularPromedio(total, actividad):\n",
        "    return total + actividad[1] * actividad[2]\n",
        "\n",
        "# Computo I: Lab1, Lab2, Parcial\n",
        "notas = [\n",
        "    [\"Lab1\", 8, 0.3],\n",
        "    [\"Lab2\", 9, 0.3],\n",
        "    [\"Parcial\", 10, 0.4]\n",
        "]\n",
        "\n",
        "prom = reduce(calcularPromedio, notas, 0)\n",
        "print(\"Nota Final de Progra III:\", prom)\n"
      ],
      "metadata": {
        "colab": {
          "base_uri": "https://localhost:8080/"
        },
        "id": "xGI8tITNwduD",
        "outputId": "0d4fdc0e-146e-4455-b428-7b8baa7054f2"
      },
      "execution_count": 1,
      "outputs": [
        {
          "output_type": "stream",
          "name": "stdout",
          "text": [
            "Nota Final de Progra III: 9.1\n"
          ]
        }
      ]
    },
    {
      "cell_type": "markdown",
      "source": [
        "# **Ingreso de notas por el usuario**"
      ],
      "metadata": {
        "id": "LpXKrCNqws92"
      }
    },
    {
      "cell_type": "code",
      "source": [
        "from functools import reduce\n",
        "\n",
        "def calcularPromedio(total, actividad):\n",
        "    return total + actividad[1] * actividad[2]\n",
        "\n",
        "notas = []\n",
        "for i in range(1, 4):\n",
        "    nota = float(input(f\"Act {i}: \"))\n",
        "    porcentaje = float(input(\"Porcentaje: \"))\n",
        "    notas.append([f\"Act {i}\", nota, porcentaje])\n",
        "\n",
        "prom = reduce(calcularPromedio, notas, 0)\n",
        "print(\"Nota Final de C1:\", prom)\n"
      ],
      "metadata": {
        "colab": {
          "base_uri": "https://localhost:8080/"
        },
        "id": "xuzE5vehwzdn",
        "outputId": "1251a418-ccea-49c9-d49d-bb4152c982c2"
      },
      "execution_count": 2,
      "outputs": [
        {
          "output_type": "stream",
          "name": "stdout",
          "text": [
            "Act 1: 3\n",
            "Porcentaje: 3\n",
            "Act 2: 2\n",
            "Porcentaje: 1\n",
            "Act 3: 3\n",
            "Porcentaje: 4\n",
            "Nota Final de C1: 23.0\n"
          ]
        }
      ]
    },
    {
      "cell_type": "markdown",
      "source": [
        "# **Ordenamiento de lista**"
      ],
      "metadata": {
        "id": "uDoEEnBTxAz-"
      }
    },
    {
      "cell_type": "code",
      "source": [
        "valores = [5, 8, 9, 1, 3, 4, 7]\n",
        "\n",
        "print(\"Lista original:\", valores)\n",
        "\n",
        "valores.sort()\n",
        "print(\"Ordenados de menor a mayor:\", valores)\n",
        "\n",
        "valores.reverse()\n",
        "print(\"Ordenados de mayor a menor:\", valores)\n"
      ],
      "metadata": {
        "colab": {
          "base_uri": "https://localhost:8080/"
        },
        "id": "IgSPca41xGF2",
        "outputId": "26501615-282d-428b-bc31-87758700dcb9"
      },
      "execution_count": 3,
      "outputs": [
        {
          "output_type": "stream",
          "name": "stdout",
          "text": [
            "Lista original: [5, 8, 9, 1, 3, 4, 7]\n",
            "Ordenados de menor a mayor: [1, 3, 4, 5, 7, 8, 9]\n",
            "Ordenados de mayor a menor: [9, 8, 7, 5, 4, 3, 1]\n"
          ]
        }
      ]
    },
    {
      "cell_type": "markdown",
      "source": [
        "# **Diccionarios**"
      ],
      "metadata": {
        "id": "DkPCmQr8xJoB"
      }
    },
    {
      "cell_type": "code",
      "source": [
        "persona = {\n",
        "    \"codigo\": \"USIS018804\",\n",
        "    \"nombre\": \"Luis Hernandez\",\n",
        "    \"materias\": [\n",
        "        {\n",
        "            \"codigo\": 611,\n",
        "            \"nombre\": \"Programacion I\",\n",
        "            \"notas\": {\n",
        "                \"c1\": {\"lab1\": 8, \"lab2\": 9.9, \"parcial\": 10},\n",
        "                \"c2\": {\"lab1\": 7.78, \"lab2\": 6.5, \"parcial\": 8},\n",
        "                \"c3\": {\"lab1\": 10, \"lab2\": 9, \"parcial\": 9}\n",
        "            }\n",
        "        },\n",
        "        {\n",
        "            \"codigo\": 612,\n",
        "            \"nombre\": \"Programacion II\",\n",
        "            \"notas\": {\n",
        "                \"c1\": {\"lab1\": 5, \"lab2\": 7, \"parcial\": 9},\n",
        "                \"c2\": {\"lab1\": 9, \"lab2\": 6, \"parcial\": 10},\n",
        "                \"c3\": {\"lab1\": 10, \"lab2\": 10, \"parcial\": 9}\n",
        "            }\n",
        "        }\n",
        "    ]\n",
        "}\n",
        "\n",
        "print(persona[\"nombre\"], \"->\", persona[\"materias\"][0][\"nombre\"], \"-> CI:\",\n",
        "      persona[\"materias\"][0][\"notas\"][\"c1\"],\n",
        "      persona[\"materias\"][0][\"notas\"][\"c1\"][\"lab1\"])\n"
      ],
      "metadata": {
        "colab": {
          "base_uri": "https://localhost:8080/"
        },
        "id": "7zJqTOdTxPL2",
        "outputId": "c331b4c9-4653-4041-eb08-0f822b605c81"
      },
      "execution_count": 4,
      "outputs": [
        {
          "output_type": "stream",
          "name": "stdout",
          "text": [
            "Luis Hernandez -> Programacion I -> CI: {'lab1': 8, 'lab2': 9.9, 'parcial': 10} 8\n"
          ]
        }
      ]
    },
    {
      "cell_type": "markdown",
      "source": [
        "# **Clasificación de edades**"
      ],
      "metadata": {
        "id": "iKVbwKmyxXH0"
      }
    },
    {
      "cell_type": "code",
      "source": [
        "edad = int(input(\"Edad: \"))\n",
        "\n",
        "if edad < 0:\n",
        "    print(\"Error al ingresar la edad, solo valores positivos.\")\n",
        "elif edad <= 2:\n",
        "    print(\"Eres un bebé...\")\n",
        "elif edad <= 11:\n",
        "    print(\"Eres un niño...\")\n",
        "elif edad < 18:\n",
        "    print(\"Eres un adolescente...\")\n",
        "elif edad < 65:\n",
        "    print(\"Eres un adulto responsable...\")\n",
        "elif edad < 85:\n",
        "    print(\"Eres un adulto mayor...\")\n",
        "else:\n",
        "    print(\"Larga vida...\")\n"
      ],
      "metadata": {
        "colab": {
          "base_uri": "https://localhost:8080/"
        },
        "id": "HvXC9ntOxtM9",
        "outputId": "b4a32f2a-061a-4b29-b5bc-98eab50e4e1d"
      },
      "execution_count": 5,
      "outputs": [
        {
          "output_type": "stream",
          "name": "stdout",
          "text": [
            "Edad: 20\n",
            "Eres un adulto responsable...\n"
          ]
        }
      ]
    },
    {
      "cell_type": "markdown",
      "source": [
        "# **LAb2**"
      ],
      "metadata": {
        "id": "ENInixbry701"
      }
    },
    {
      "cell_type": "markdown",
      "source": [
        "# Calcular el valor a pagar según el número de metros consumidos de agua potable (Ver tabla en la siguiente diapositiva). (20%)"
      ],
      "metadata": {
        "id": "qTj_llc6zD5P"
      }
    },
    {
      "cell_type": "code",
      "source": [
        "def calcular_pago_agua(metros_consumidos):      ## pues esto representa cuántos metros cúbicos de agua se usaron\n",
        "    cuota_fija = 6.00\n",
        "    if metros_consumidos <= 18:                 ##Si el consumo es igual o menor alos 18 metros, solo se pagara la cuota fija nada más\n",
        "        total = cuota_fija\n",
        "    elif metros_consumidos <= 28:\n",
        "        exceso = metros_consumidos - 18\n",
        "        total = cuota_fija + (exceso * 0.45)    ##bueno aqui se calcula cuántos metros están por encima de 18 (exceso) y luego lo  multiplico por $0.45.\n",
        "    else:\n",
        "        exceso_1 = 10  ## # 10 m / 19 o 28            #Si el consumo es mayor a 28 metros lo divido en dos partes\n",
        "        exceso_2 = metros_consumidos - 28\n",
        "        total = cuota_fija + (exceso_1 * 0.45) + (exceso_2 * 0.65)\n",
        "    return round(total, 2)\n",
        "\n",
        "# Ejemplos de uso\n",
        "print(\"Consumo de 15 metros: $\", calcular_pago_agua(15))  # $6.00\n",
        "print(\"Consumo de 25 metros: $\", calcular_pago_agua(25))  # $9.15\n",
        "print(\"Consumo de 38 metros: $\", calcular_pago_agua(38))  # $17.00"
      ],
      "metadata": {
        "colab": {
          "base_uri": "https://localhost:8080/"
        },
        "id": "oRtSLXo-zHJ1",
        "outputId": "3d2a8e97-3920-4bce-b65b-98b8ff80ceb2"
      },
      "execution_count": 6,
      "outputs": [
        {
          "output_type": "stream",
          "name": "stdout",
          "text": [
            "Consumo de 15 metros: $ 6.0\n",
            "Consumo de 25 metros: $ 9.15\n",
            "Consumo de 38 metros: $ 17.0\n"
          ]
        }
      ]
    },
    {
      "cell_type": "markdown",
      "source": [
        "# **Calcular sobre el sueldo las deducciones por ley ISSS (3%), AFP(6.25%), ISR(Según tabla) e imprima el total deducciones y sueldo neto. (20%)**"
      ],
      "metadata": {
        "id": "a7tNvypezMAw"
      }
    },
    {
      "cell_type": "code",
      "source": [
        "def calcular_sueldo_neto():\n",
        "    \"\"\"\n",
        "    Calcula el sueldo neto mensual y quincenal aplicando deducciones:\n",
        "    AFP (7.25%), ISSS (3%) e ISR según tramos establecidos.\n",
        "    \"\"\"\n",
        "\n",
        "    # Tabla de tramos de ISR: [desde, hasta, %, exceso, cuota fija]\n",
        "    isr_tramos = [\n",
        "        [0.01,    472.00,    0,     0.00,      0.00],\n",
        "        [472.01,  895.24,   10,   472.00,     15.27],\n",
        "        [895.25,  2038.10,  20,   895.24,     60.00],\n",
        "        [2038.11, float('inf'), 30,  2038.10,    288.57],\n",
        "    ]\n",
        "\n",
        "    sueldo_bruto = float(input(\"Ingrese el sueldo bruto mensual: $\"))\n",
        "\n",
        "    afp = sueldo_bruto * 0.0725\n",
        "    isss = sueldo_bruto * 0.03\n",
        "    sueldo_para_isr = sueldo_bruto - afp\n",
        "    isr = 0.0\n",
        "\n",
        "    # Cálculo del ISR según el tramo\n",
        "    for desde, hasta, porcentaje, exceso, cuota in isr_tramos:\n",
        "        if desde <= sueldo_para_isr <= hasta:\n",
        "            isr = ((sueldo_para_isr - exceso) * porcentaje / 100) + cuota\n",
        "            break\n",
        "\n",
        "    sueldo_neto_mensual = sueldo_bruto - afp - isss - isr\n",
        "    sueldo_neto_quincenal = sueldo_neto_mensual / 2\n",
        "\n",
        "    # Mostrar resultados\n",
        "    print(\"\\n--- Resumen de Sueldo ---\")\n",
        "    print(f\"Sueldo bruto:           ${sueldo_bruto:.2f}\")\n",
        "    print(f\"AFP (7.25%):            ${afp:.2f}\")\n",
        "    print(f\"ISSS (3%):              ${isss:.2f}\")\n",
        "    print(f\"Base para ISR:          ${sueldo_para_isr:.2f}\")\n",
        "    print(f\"ISR:                    ${isr:.2f}\")\n",
        "    print(f\"Sueldo neto mensual:    ${sueldo_neto_mensual:.2f}\")\n",
        "    print(f\"Sueldo neto quincenal:  ${sueldo_neto_quincenal:.2f}\")\n",
        "    print(\"-------------------------\\n\")\n",
        "\n",
        "# Corrección del nombre de la condición principal\n",
        "if __name__ == \"__main__\":\n",
        "    calcular_sueldo_neto()"
      ],
      "metadata": {
        "colab": {
          "base_uri": "https://localhost:8080/"
        },
        "id": "hLTPSzCwzUDg",
        "outputId": "eabb418c-fbe4-482b-8e5a-ae20e7b94b82"
      },
      "execution_count": 7,
      "outputs": [
        {
          "output_type": "stream",
          "name": "stdout",
          "text": [
            "Ingrese el sueldo bruto mensual: $300\n",
            "\n",
            "--- Resumen de Sueldo ---\n",
            "Sueldo bruto:           $300.00\n",
            "AFP (7.25%):            $21.75\n",
            "ISSS (3%):              $9.00\n",
            "Base para ISR:          $278.25\n",
            "ISR:                    $0.00\n",
            "Sueldo neto mensual:    $269.25\n",
            "Sueldo neto quincenal:  $134.62\n",
            "-------------------------\n",
            "\n"
          ]
        }
      ]
    },
    {
      "cell_type": "markdown",
      "source": [
        "# Desarrolle la tabla de meses acumulados a n meses. Si puede encontrar la fórmula matemática para evitar ciclos. (10%)"
      ],
      "metadata": {
        "id": "PYcX34Jxza_Z"
      }
    },
    {
      "cell_type": "code",
      "source": [
        "def acumulacion_meses_por_mes(n):\n",
        "    # use la fórmula triangular\n",
        "    return [(mes, (mes * (mes + 1)) // 2) for mes in range(1, n + 1)]\n",
        "\n",
        "def mostrar_tabla(tabla):\n",
        "    print(\"\\nTabla de acumulación de meses:\\n\")\n",
        "    print(f\"{'Mes':<6} | {'Acumulado':<10}\")\n",
        "    print(\"-\" * 22)\n",
        "    for mes, acumulado in tabla:\n",
        "        print(f\"{mes:<6} | {acumulado:<10}\")\n",
        "    print(\"-\" * 22)\n",
        "\n",
        "def iniciar():\n",
        "    print(\"Calculador de Meses Acumulados\\n\")\n",
        "    try:\n",
        "        n = int(input(\"Ingrese el número de meses (n): \"))\n",
        "        if n <= 0:\n",
        "            print(\"Por favor ingrese un número positivo.\")\n",
        "            return\n",
        "        tabla = acumulacion_meses_por_mes(n)\n",
        "        mostrar_tabla(tabla)\n",
        "        total = (n * (n + 1) * (n + 2)) // 6\n",
        "        print(f\"\\nAcumulación total hasta el mes {n}: {total} meses\\n\")\n",
        "    except ValueError:\n",
        "        print(\"Entrada inválida. Por favor ingrese un número entero.\")\n",
        "\n",
        "iniciar()"
      ],
      "metadata": {
        "colab": {
          "base_uri": "https://localhost:8080/"
        },
        "id": "4TqVKo9_zg9V",
        "outputId": "28292d50-d93e-4778-9519-b9b583cb0179"
      },
      "execution_count": 8,
      "outputs": [
        {
          "output_type": "stream",
          "name": "stdout",
          "text": [
            "Calculador de Meses Acumulados\n",
            "\n",
            "Ingrese el número de meses (n): 5\n",
            "\n",
            "Tabla de acumulación de meses:\n",
            "\n",
            "Mes    | Acumulado \n",
            "----------------------\n",
            "1      | 1         \n",
            "2      | 3         \n",
            "3      | 6         \n",
            "4      | 10        \n",
            "5      | 15        \n",
            "----------------------\n",
            "\n",
            "Acumulación total hasta el mes 5: 35 meses\n",
            "\n"
          ]
        }
      ]
    },
    {
      "cell_type": "markdown",
      "source": [
        "# Conversores: (40%) (10 ítems como mínimo por cada uno)"
      ],
      "metadata": {
        "id": "2_RSl7IWznYl"
      }
    },
    {
      "cell_type": "code",
      "source": [
        "# =========================\n",
        "# Conversores en Python la tarea :v\n",
        "# =========================\n",
        "\n",
        "def convertir(valor, factor):\n",
        "    return valor * factor\n",
        "\n",
        "# -------------------------\n",
        "# Conversores por categorías para asi no confundirse\n",
        "# -------------------------\n",
        "\n",
        "monedas = [\n",
        "    (\"USD -> EUR\", 0.86),      # Dólar estadounidense a Euro\n",
        "    (\"EUR -> USD\", 1/0.86),    # Euro a Dólar estadounidense\n",
        "    (\"USD -> MXN\", 18.83),     # Dólar estadounidense a Peso Mexicano\n",
        "    (\"MXN -> USD\", 1/18.83),   # Peso Mexicano a Dólar estadounidense\n",
        "    (\"USD -> GBP\", 0.82),      # Dólar estadounidense a Libra Esterlina\n",
        "    (\"GBP -> USD\", 1/0.82),    # Libra Esterlina a Dólar estadounidense\n",
        "    (\"USD -> JPY\", 142.5),     # Dólar estadounidense a Yen Japonés\n",
        "    (\"JPY -> USD\", 1/142.5),   # Yen Japonés a Dólar estadounidense\n",
        "    (\"USD -> CNY\", 7.2),       # Dólar estadounidense a Yuan Chino\n",
        "    (\"CNY -> USD\", 1/7.2),     # Yuan Chino a Dólar estadounidense\n",
        "    (\"USD -> CAD\", 1.36),      # Dólar estadounidense a Dólar Canadiense\n",
        "    (\"CAD -> USD\", 1/1.36),    # Dólar Canadiense a Dólar estadounidense\n",
        "]\n",
        "\n",
        "longitudes = [\n",
        "    (\"M -> KM\", 0.001),        # Metro a Kilómetro\n",
        "    (\"M -> CM\", 100),          # Metro a Centímetro\n",
        "    (\"M -> MM\", 1000),         # Metro a Milímetro\n",
        "    (\"M -> IN\", 39.3701),      # Metro a Pulgada\n",
        "    (\"M -> FT\", 3.28084),      # Metro a Pie\n",
        "    (\"M -> YD\", 1.09361),      # Metro a Yarda\n",
        "    (\"KM -> MI\", 0.621371),    # Kilómetro a Milla\n",
        "    (\"MI -> KM\", 1.60934),     # Milla a Kilómetro\n",
        "    (\"M -> µM\", 1_000_000),    # Metro a Micrómetro\n",
        "    (\"M -> NM\", 1_000_000_000) # Metro a Nanómetro\n",
        "]\n",
        "\n",
        "masas = [\n",
        "    (\"KG -> G\", 1000),         # Kilogramo a Gramo\n",
        "    (\"KG -> MG\", 1_000_000),   # Kilogramo a Miligramo\n",
        "    (\"KG -> LB\", 2.20462),     # Kilogramo a Libra\n",
        "    (\"KG -> OZ\", 35.274),      # Kilogramo a Onza\n",
        "    (\"G -> KG\", 0.001),        # Gramo a Kilogramo\n",
        "    (\"G -> MG\", 1000),         # Gramo a Miligramo\n",
        "    (\"LB -> KG\", 0.453592),    # Libra a Kilogramo\n",
        "    (\"OZ -> G\", 28.3495),      # Onza a Gramo\n",
        "    (\"T -> KG\", 1000),         # Tonelada a Kilogramo\n",
        "    (\"KG -> T\", 0.001)         # Kilogramo a Tonelada\n",
        "]\n",
        "\n",
        "almacenamiento = [\n",
        "    (\"B -> KB\", 1/1024),       # Byte a Kilobyte\n",
        "    (\"KB -> MB\", 1/1024),      # Kilobyte a Megabyte\n",
        "    (\"MB -> GB\", 1/1024),      # Megabyte a Gigabyte\n",
        "    (\"GB -> TB\", 1/1024),      # Gigabyte a Terabyte\n",
        "    (\"TB -> PB\", 1/1024),      # Terabyte a Petabyte\n",
        "    (\"KB -> B\", 1024),         # Kilobyte a Byte\n",
        "    (\"MB -> KB\", 1024),        # Megabyte a Kilobyte\n",
        "    (\"GB -> MB\", 1024),        # Gigabyte a Megabyte\n",
        "    (\"TB -> GB\", 1024),        # Terabyte a Gigabyte\n",
        "    (\"PB -> TB\", 1024)         # Petabyte a Terabyte\n",
        "]\n",
        "\n",
        "tiempos = [\n",
        "    (\"S -> MIN\", 1/60),        # Segundo a Minuto\n",
        "    (\"S -> H\", 1/3600),        # Segundo a Hora\n",
        "    (\"MIN -> S\", 60),          # Minuto a Segundo\n",
        "    (\"MIN -> H\", 1/60),        # Minuto a Hora\n",
        "    (\"H -> S\", 3600),          # Hora a Segundo\n",
        "    (\"H -> MIN\", 60),          # Hora a Minuto\n",
        "    (\"D -> H\", 24),            # Día a Hora\n",
        "    (\"SEM -> D\", 7),           # Semana a Día\n",
        "    (\"AÑO -> D\", 365),         # Año a Día\n",
        "    (\"D -> SEM\", 1/7)          # Día a Semana\n",
        "]\n",
        "\n",
        "volumenes = [\n",
        "    (\"L -> ML\", 1000),         # Litro a Mililitro\n",
        "    (\"L -> GAL\", 0.264172),    # Litro a Galón (EE. UU.)\n",
        "    (\"L -> PINT\", 2.11338),    # Litro a Pinta (EE. UU.)\n",
        "    (\"ML -> L\", 0.001),        # Mililitro a Litro\n",
        "    (\"GAL -> L\", 3.78541),     # Galón (EE. UU.) a Litro\n",
        "    (\"M³ -> L\", 1000),         # Metro cúbico a Litro\n",
        "    (\"L -> M³\", 0.001),        # Litro a Metro cúbico\n",
        "    (\"L -> CM³\", 1000),        # Litro a Centímetro cúbico\n",
        "    (\"OZ -> ML\", 29.5735),     # Onza líquida a Mililitro\n",
        "    (\"IN³ -> L\", 0.0163871)    # Pulgada cúbica a Litro\n",
        "]\n",
        "\n",
        "areas = [\n",
        "    (\"M² -> KM²\", 0.000001),       # Metro cuadrado a Kilómetro cuadrado\n",
        "    (\"M² -> HA\", 0.0001),          # Metro cuadrado a Hectárea\n",
        "    (\"M² -> ACRE\", 0.000247105),   # Metro cuadrado a Acre\n",
        "    (\"HA -> M²\", 10_000),          # Hectárea a Metro cuadrado\n",
        "    (\"ACRE -> M²\", 4046.86),       # Acre a Metro cuadrado\n",
        "    (\"KM² -> M²\", 1_000_000),      # Kilómetro cuadrado a Metro cuadrado\n",
        "    (\"M² -> CM²\", 10_000),         # Metro cuadrado a Centímetro cuadrado\n",
        "    (\"MANZ -> M²\", 6987),          # Manzana a Metro cuadrado\n",
        "    (\"TAREA -> M²\", 437.5),        # Tarea a Metro cuadrado\n",
        "    (\"M² -> MANZ\", 1/6987)         # Metro cuadrado a Manzana\n",
        "]\n",
        "\n",
        "\n",
        "# -------------------------\n",
        "# Funciones de cada conversor\n",
        "# -------------------------\n",
        "def mostrar_conversor(valor, lista, titulo):\n",
        "    print(f\"\\n=== Conversor de {titulo} ===\")\n",
        "    for nombre, factor in lista:\n",
        "        print(f\"{valor} {nombre} = {convertir(valor, factor):.4f}\")\n",
        "\n",
        "# -------------------------\n",
        "# MENÚ PRINCIPAL\n",
        "# -------------------------\n",
        "while True:\n",
        "    print(\"\\n===== MENÚ PRINCIPAL =====\")\n",
        "    print(\"1. Conversor de Monedas\")\n",
        "    print(\"2. Conversor de Longitud\")\n",
        "    print(\"3. Conversor de Masa\")\n",
        "    print(\"4. Conversor de Almacenamiento\")\n",
        "    print(\"5. Conversor de Tiempo\")\n",
        "    print(\"6. Conversor de Volumen\")\n",
        "    print(\"7. Conversor de Área\")\n",
        "    print(\"8. Salir\")\n",
        "\n",
        "    opcion = input(\"Elige una opción: \")\n",
        "\n",
        "    if opcion == \"1\":\n",
        "        valor = float(input(\"Ingrese cantidad en Dólares estadounidenses: \"))\n",
        "        mostrar_conversor(valor, monedas, \"Monedas\")\n",
        "    elif opcion == \"2\":\n",
        "        valor = float(input(\"Ingrese valor en Metros: \"))\n",
        "        mostrar_conversor(valor, longitudes, \"Longitud\")\n",
        "    elif opcion == \"3\":\n",
        "        valor = float(input(\"Ingrese valor en Kilogramos: \"))\n",
        "        mostrar_conversor(valor, masas, \"Masa\")\n",
        "    elif opcion == \"4\":\n",
        "        valor = float(input(\"Ingrese valor en Bytes: \"))\n",
        "        mostrar_conversor(valor, almacenamiento, \"Almacenamiento\")\n",
        "    elif opcion == \"5\":\n",
        "        valor = float(input(\"Ingrese valor en Segundos: \"))\n",
        "        mostrar_conversor(valor, tiempos, \"Tiempo\")\n",
        "    elif opcion == \"6\":\n",
        "        valor = float(input(\"Ingrese valor en Litros: \"))\n",
        "        mostrar_conversor(valor, volumenes, \"Volumen\")\n",
        "    elif opcion == \"7\":\n",
        "        valor = float(input(\"Ingrese valor en Metros cuadrados: \"))\n",
        "        mostrar_conversor(valor, areas, \"Área\")\n",
        "    elif opcion == \"8\":\n",
        "        print(\"¡Hasta luego!\")\n",
        "        break\n",
        "    else:\n",
        "        print(\"Opción inválida.\")"
      ],
      "metadata": {
        "colab": {
          "base_uri": "https://localhost:8080/"
        },
        "id": "hwrUlo-zzxSQ",
        "outputId": "828ea692-eeb5-4c95-bd1a-8ada4f9ad1fc"
      },
      "execution_count": 9,
      "outputs": [
        {
          "output_type": "stream",
          "name": "stdout",
          "text": [
            "\n",
            "===== MENÚ PRINCIPAL =====\n",
            "1. Conversor de Monedas\n",
            "2. Conversor de Longitud\n",
            "3. Conversor de Masa\n",
            "4. Conversor de Almacenamiento\n",
            "5. Conversor de Tiempo\n",
            "6. Conversor de Volumen\n",
            "7. Conversor de Área\n",
            "8. Salir\n",
            "Elige una opción: 1\n",
            "Ingrese cantidad en Dólares estadounidenses: 4\n",
            "\n",
            "=== Conversor de Monedas ===\n",
            "4.0 USD -> EUR = 3.4400\n",
            "4.0 EUR -> USD = 4.6512\n",
            "4.0 USD -> MXN = 75.3200\n",
            "4.0 MXN -> USD = 0.2124\n",
            "4.0 USD -> GBP = 3.2800\n",
            "4.0 GBP -> USD = 4.8780\n",
            "4.0 USD -> JPY = 570.0000\n",
            "4.0 JPY -> USD = 0.0281\n",
            "4.0 USD -> CNY = 28.8000\n",
            "4.0 CNY -> USD = 0.5556\n",
            "4.0 USD -> CAD = 5.4400\n",
            "4.0 CAD -> USD = 2.9412\n",
            "\n",
            "===== MENÚ PRINCIPAL =====\n",
            "1. Conversor de Monedas\n",
            "2. Conversor de Longitud\n",
            "3. Conversor de Masa\n",
            "4. Conversor de Almacenamiento\n",
            "5. Conversor de Tiempo\n",
            "6. Conversor de Volumen\n",
            "7. Conversor de Área\n",
            "8. Salir\n",
            "Elige una opción: 8\n",
            "¡Hasta luego!\n"
          ]
        }
      ]
    },
    {
      "cell_type": "markdown",
      "source": [
        "# Realizar un conversor propio, donde especifiqué el valor de conversión: (10%)"
      ],
      "metadata": {
        "id": "pAsTqq_n0AEj"
      }
    },
    {
      "cell_type": "code",
      "source": [
        "def convertir_cajas():\n",
        "    unidades = float(input(\"Ingrese cantidad de unidades: \"))\n",
        "    cajas = unidades / 25\n",
        "    print(f\"{unidades} unidades = {cajas:.2f} cajas\")\n",
        "\n",
        "    fraccion = input(\"¿Desea convertir una fracción de caja? (ej. 3/5): \")\n",
        "    if fraccion:\n",
        "        num, den = map(float, fraccion.split(\"/\"))\n",
        "        fraccion_caja = (num / den) * 25\n",
        "        print(f\"{fraccion} de caja = {fraccion_caja:.2f} unidades\")\n",
        "\n",
        "def convertir_sacos():\n",
        "    libras = float(input(\"Ingrese cantidad de libras: \"))\n",
        "    sacos = libras / 50\n",
        "    print(f\"{libras} libras = {sacos:.2f} sacos\")\n",
        "\n",
        "    fraccion = input(\"¿Desea convertir una fracción de saco? (ej. 2/30): \")\n",
        "    if fraccion:\n",
        "        num, den = map(float, fraccion.split(\"/\"))\n",
        "        fraccion_saco = (num / den) * 50\n",
        "        print(f\"{fraccion} de saco = {fraccion_saco:.2f} libras\")\n",
        "\n",
        "def convertir_fardos():\n",
        "    unidades = float(input(\"Ingrese cantidad de unidades: \"))\n",
        "    fardos = unidades / 5\n",
        "    print(f\"{unidades} unidades = {fardos:.2f} fardos\")\n",
        "\n",
        "    fraccion = input(\"¿Desea convertir una fracción de fardo? (ej. 5/3): \")\n",
        "    if fraccion:\n",
        "        num, den = map(float, fraccion.split(\"/\"))\n",
        "        fraccion_fardo = (num / den) * 5\n",
        "        print(f\"{fraccion} de fardo = {fraccion_fardo:.2f} unidades\")\n",
        "\n",
        "def menu():\n",
        "    print(\"\\n📦 Conversor de unidades\")\n",
        "    print(\"1. Convertir cajas\")\n",
        "    print(\"2. Convertir sacos\")\n",
        "    print(\"3. Convertir fardos\")\n",
        "    print(\"4. Salir\")\n",
        "\n",
        "    while True:\n",
        "        opcion = input(\"\\nSeleccione una opción (1-4): \")\n",
        "        if opcion == \"1\":\n",
        "            convertir_cajas()\n",
        "        elif opcion == \"2\":\n",
        "            convertir_sacos()\n",
        "        elif opcion == \"3\":\n",
        "            convertir_fardos()\n",
        "        elif opcion == \"4\":\n",
        "            print(\"¡Gracias por usar el conversor!\")\n",
        "            break\n",
        "        else:\n",
        "            print(\"Opción inválida. Intente de nuevo.\")\n",
        "\n",
        "menu()\n"
      ],
      "metadata": {
        "colab": {
          "base_uri": "https://localhost:8080/"
        },
        "id": "emsA224s0EZ9",
        "outputId": "bd2714a9-1532-4eda-cfe8-a1c6d34c229c"
      },
      "execution_count": 11,
      "outputs": [
        {
          "output_type": "stream",
          "name": "stdout",
          "text": [
            "\n",
            "📦 Conversor de unidades\n",
            "1. Convertir cajas\n",
            "2. Convertir sacos\n",
            "3. Convertir fardos\n",
            "4. Salir\n",
            "\n",
            "Seleccione una opción (1-4): 1\n",
            "Ingrese cantidad de unidades: 5\n",
            "5.0 unidades = 0.20 cajas\n",
            "¿Desea convertir una fracción de caja? (ej. 3/5): 1/5\n",
            "1/5 de caja = 5.00 unidades\n",
            "\n",
            "Seleccione una opción (1-4): 4\n",
            "¡Gracias por usar el conversor!\n"
          ]
        }
      ]
    },
    {
      "cell_type": "markdown",
      "source": [
        "# 1. Determinar si un número es primo"
      ],
      "metadata": {
        "id": "YLiHgPFq1HOv"
      }
    },
    {
      "cell_type": "code",
      "source": [
        "num = int(input(\"Num: \"))\n",
        "\n",
        "if num < 2:\n",
        "    print(f\"El número {num} NO es primo\")\n",
        "else:\n",
        "    acum = 0\n",
        "    i = 1\n",
        "    while i <= num and acum <= 2:\n",
        "        if num % i == 0:\n",
        "            acum += 1\n",
        "        i += 1\n",
        "    if acum <= 2:\n",
        "        print(f\"El número {num} ES primo\")\n",
        "    else:\n",
        "        print(f\"El número {num} NO es primo\")\n"
      ],
      "metadata": {
        "colab": {
          "base_uri": "https://localhost:8080/"
        },
        "id": "T0UpXGHx1Jcg",
        "outputId": "f9b8429d-d2f7-4998-ff7f-2a52cfebc51e"
      },
      "execution_count": 12,
      "outputs": [
        {
          "output_type": "stream",
          "name": "stdout",
          "text": [
            "Num: 2\n",
            "El número 2 ES primo\n"
          ]
        }
      ]
    },
    {
      "cell_type": "markdown",
      "source": [
        "# 2. Tabla de multiplicar con opción de repetir"
      ],
      "metadata": {
        "id": "oRfRhy5q1NB_"
      }
    },
    {
      "cell_type": "code",
      "source": [
        "continuar = \"s\"\n",
        "while continuar.lower() == \"s\":\n",
        "    ntabla = int(input(\"Tabla: \"))\n",
        "    for i in range(1, 11):\n",
        "        print(f\"{ntabla} x {i} = {ntabla * i}\")\n",
        "    continuar = input(\"¿Continuar? (s para seguir, cualquier otra tecla para salir): \")\n"
      ],
      "metadata": {
        "colab": {
          "base_uri": "https://localhost:8080/"
        },
        "id": "HSElIxXQ1Q0Y",
        "outputId": "c40e0d7b-0387-4a85-fb4d-cce91a3875f8"
      },
      "execution_count": 13,
      "outputs": [
        {
          "name": "stdout",
          "output_type": "stream",
          "text": [
            "Tabla: 3\n",
            "3 x 1 = 3\n",
            "3 x 2 = 6\n",
            "3 x 3 = 9\n",
            "3 x 4 = 12\n",
            "3 x 5 = 15\n",
            "3 x 6 = 18\n",
            "3 x 7 = 21\n",
            "3 x 8 = 24\n",
            "3 x 9 = 27\n",
            "3 x 10 = 30\n",
            "¿Continuar? (s para seguir, cualquier otra tecla para salir): \n"
          ]
        }
      ]
    },
    {
      "cell_type": "markdown",
      "source": [
        "# Clase calculadora con método sumar y Self"
      ],
      "metadata": {
        "id": "Iof53Gvq1cfz"
      }
    },
    {
      "cell_type": "code",
      "source": [
        "class Calculadora:\n",
        "    def sumar(self, num1, num2):\n",
        "        return num1 + num2\n",
        "\n",
        "objCalculadora = Calculadora()\n",
        "num1 = float(input(\"Num1: \"))\n",
        "num2 = float(input(\"Num2: \"))\n",
        "print(f\"{num1} + {num2} = {objCalculadora.sumar(num1, num2)}\")\n"
      ],
      "metadata": {
        "colab": {
          "base_uri": "https://localhost:8080/"
        },
        "id": "GdUidFS91iQw",
        "outputId": "02d82d0f-e62c-4a2a-8f26-ba244bcc37e9"
      },
      "execution_count": 14,
      "outputs": [
        {
          "output_type": "stream",
          "name": "stdout",
          "text": [
            "Num1: 2\n",
            "Num2: 3\n",
            "2.0 + 3.0 = 5.0\n"
          ]
        }
      ]
    },
    {
      "cell_type": "markdown",
      "source": [
        "# Clase estadistica para media y desviación típica"
      ],
      "metadata": {
        "id": "pkO_ZduP1p3a"
      }
    },
    {
      "cell_type": "code",
      "source": [
        "from math import sqrt\n",
        "\n",
        "class Estadistica:\n",
        "    def media(self, serie):\n",
        "        suma = sum(int(num) for num in serie)\n",
        "        return suma / len(serie)\n",
        "\n",
        "    def desviacion_tipica(self, serie):\n",
        "        media = self.media(serie)\n",
        "        suma = sum((int(num) - media) ** 2 for num in serie)\n",
        "        return sqrt(suma / len(serie))\n",
        "\n",
        "serie = input(\"Serie ejem: 1,5,2,3: \").split(\",\")\n",
        "objEstadistica = Estadistica()\n",
        "print(\"La media es:\", objEstadistica.media(serie))\n",
        "print(\"La desviación típica es:\", round(objEstadistica.desviacion_tipica(serie), 2))\n"
      ],
      "metadata": {
        "colab": {
          "base_uri": "https://localhost:8080/"
        },
        "id": "DoMV7DMq1vta",
        "outputId": "26686a38-484d-4cb7-dd67-a5f4447803fd"
      },
      "execution_count": 17,
      "outputs": [
        {
          "output_type": "stream",
          "name": "stdout",
          "text": [
            "Serie ejem: 1,5,2,3: 7\n",
            "La media es: 7.0\n",
            "La desviación típica es: 0.0\n"
          ]
        }
      ]
    }
  ]
}
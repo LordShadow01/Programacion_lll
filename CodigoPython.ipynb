{
  "nbformat": 4,
  "nbformat_minor": 0,
  "metadata": {
    "colab": {
      "provenance": [],
      "authorship_tag": "ABX9TyNQlfBe96ZN1Ugadu1JcUuY",
      "include_colab_link": true
    },
    "kernelspec": {
      "name": "python3",
      "display_name": "Python 3"
    },
    "language_info": {
      "name": "python"
    }
  },
  "cells": [
    {
      "cell_type": "markdown",
      "metadata": {
        "id": "view-in-github",
        "colab_type": "text"
      },
      "source": [
        "<a href=\"https://colab.research.google.com/github/LordShadow01/Programacion_lll/blob/main/CodigoPython.ipynb\" target=\"_parent\"><img src=\"https://colab.research.google.com/assets/colab-badge.svg\" alt=\"Open In Colab\"/></a>"
      ]
    },
    {
      "cell_type": "code",
      "execution_count": 3,
      "metadata": {
        "colab": {
          "base_uri": "https://localhost:8080/"
        },
        "id": "BCiVoZvWNolz",
        "outputId": "daf54a68-3298-4c80-f96a-1c2200b7e4b3"
      },
      "outputs": [
        {
          "output_type": "stream",
          "name": "stdout",
          "text": [
            "Hola Mundo\n",
            "Bienvenidos chicos a programacion computacional lll\n"
          ]
        }
      ],
      "source": [
        "print(\"Hola Mundo\")\n",
        "print(\"Bienvenidos chicos a programacion computacional lll\")"
      ]
    },
    {
      "cell_type": "code",
      "source": [
        "nombre = \"Jonathan Rosales\"\n",
        "edad = 20\n",
        "print(nombre, edad)\n",
        "\n",
        "edad = \"Veinte\"\n",
        "print(\"Tu edad es\", edad)"
      ],
      "metadata": {
        "colab": {
          "base_uri": "https://localhost:8080/"
        },
        "id": "LK4fKrZpOJjI",
        "outputId": "d6ec1e79-26f5-4dd1-f23d-3dcb08feec6f"
      },
      "execution_count": 5,
      "outputs": [
        {
          "output_type": "stream",
          "name": "stdout",
          "text": [
            "Jonathan Rosales 20\n",
            "Tu edad es Veinte\n"
          ]
        }
      ]
    },
    {
      "cell_type": "code",
      "source": [
        "num1 = 20\n",
        "num2= 8.9\n",
        "suma = num1 + num2\n",
        "print(\"la suma es:\",suma)"
      ],
      "metadata": {
        "colab": {
          "base_uri": "https://localhost:8080/"
        },
        "id": "kIcdVeS9Od0s",
        "outputId": "7ca98b70-3802-4e0b-fb2a-ec3b87fb7f1e"
      },
      "execution_count": 7,
      "outputs": [
        {
          "output_type": "stream",
          "name": "stdout",
          "text": [
            "la suma es: 28.9\n"
          ]
        }
      ]
    },
    {
      "cell_type": "code",
      "source": [
        "#Funciones\n",
        "\n",
        "num1 = float(input(\"Ingresa el primer número: \"))\n",
        "num2 = float(input(\"Ingresa el segundo número: \"))\n",
        "suma = num1 + num2\n",
        "print(\"La suma es:\", suma)\n"
      ],
      "metadata": {
        "colab": {
          "base_uri": "https://localhost:8080/"
        },
        "id": "5mtudcxuOlzQ",
        "outputId": "b15daf28-c5f9-4421-ff8b-d57a74caa6f1"
      },
      "execution_count": 11,
      "outputs": [
        {
          "output_type": "stream",
          "name": "stdout",
          "text": [
            "Ingresa el primer número: 2\n",
            "Ingresa el segundo número: 2\n",
            "La suma es: 4.0\n"
          ]
        }
      ]
    },
    {
      "cell_type": "code",
      "source": [
        "num1 = float(input(\"Num1: \"))\n",
        "num2 = float(input(\"Num2: \"))\n",
        "resta = num1 - num2\n",
        "print(\"La resta es:\", resta)\n"
      ],
      "metadata": {
        "colab": {
          "base_uri": "https://localhost:8080/"
        },
        "id": "2vOr5waHP8mc",
        "outputId": "45ac7d02-2448-45d0-b3f9-999c07e9534f"
      },
      "execution_count": 12,
      "outputs": [
        {
          "output_type": "stream",
          "name": "stdout",
          "text": [
            "Num1: 3\n",
            "Num2: 2\n",
            "La resta es: 1.0\n"
          ]
        }
      ]
    },
    {
      "cell_type": "code",
      "source": [
        "#Uso de Funciones Y Tarea\n",
        "#Resta\n",
        "res1 = int(input(\"ingrese el primer numero: \"))\n",
        "res2 = int(input(\"ingrese el segundo numero: \"))\n",
        "\n",
        "Respuesta = res1 - res2\n",
        "print(\"la resta de los numeros es:\", Respuesta)\n",
        "\n"
      ],
      "metadata": {
        "colab": {
          "base_uri": "https://localhost:8080/"
        },
        "id": "pIYPMQSAQqlq",
        "outputId": "db9cc47a-62be-4d73-a460-bb8e338db815"
      },
      "execution_count": 13,
      "outputs": [
        {
          "output_type": "stream",
          "name": "stdout",
          "text": [
            "ingrese el primer numero: 2\n",
            "ingrese el segundo numero: 2\n",
            "la resta de los numeros es: 0\n"
          ]
        }
      ]
    },
    {
      "cell_type": "code",
      "source": [
        "#Resta de 2 Numeros\n",
        "def restar_dos_numeros():\n",
        "    num1 = int(input(\"Ingrese el primer número: \"))\n",
        "    num2 = int(input(\"Ingrese el segundo número: \"))\n",
        "    return num1 - num2\n",
        "\n",
        "# Usando el resultado\n",
        "resultado = restar_dos_numeros()\n",
        "print(\"La resta de los números es:\", resultado)"
      ],
      "metadata": {
        "colab": {
          "base_uri": "https://localhost:8080/"
        },
        "id": "tnkIebf0RB2O",
        "outputId": "0a1cdd81-3e9a-4d72-9c73-f41e330f84e1"
      },
      "execution_count": 14,
      "outputs": [
        {
          "output_type": "stream",
          "name": "stdout",
          "text": [
            "Ingrese el primer número: 5\n",
            "Ingrese el segundo número: 4\n",
            "La resta de los números es: 1\n"
          ]
        }
      ]
    },
    {
      "cell_type": "code",
      "source": [
        "#Hacer un ejercicio en python haciendo uso de las funciones , que reste dos numeros introducirlos por el usuario Tarea....\n",
        "\n",
        "\n",
        "#Ejercicio que convierta grados celcius a farenheit\n",
        "def  celciusFarenheit(c):\n",
        "  return c*1.8 + 32"
      ],
      "metadata": {
        "id": "Zkxm4FZ9RQWu"
      },
      "execution_count": 15,
      "outputs": []
    },
    {
      "cell_type": "code",
      "source": [
        "c= int(input(\"Grados c: \"))\n",
        "f= celciusFarenheit(c)\n",
        "print(\"F \",f)"
      ],
      "metadata": {
        "colab": {
          "base_uri": "https://localhost:8080/"
        },
        "id": "4Vcs0eNDRfxK",
        "outputId": "ced60703-1fb4-4218-cf8d-a09de1a564c1"
      },
      "execution_count": 16,
      "outputs": [
        {
          "output_type": "stream",
          "name": "stdout",
          "text": [
            "Grados c: 4\n",
            "F  39.2\n"
          ]
        }
      ]
    },
    {
      "cell_type": "code",
      "source": [
        "#ejercicio de grados farenheit a celcius\n",
        "def farenheitCelcius(f):\n",
        "  return (f-32) / 1.8 #5/9"
      ],
      "metadata": {
        "id": "HVHJi29QRo8D"
      },
      "execution_count": 17,
      "outputs": []
    },
    {
      "cell_type": "code",
      "source": [
        "f= float(input(\"Grados f: \"))\n",
        "c= farenheitCelcius(f)\n",
        "print(\"C \",c)"
      ],
      "metadata": {
        "colab": {
          "base_uri": "https://localhost:8080/"
        },
        "id": "6gbuMnp5Rtw1",
        "outputId": "1bd3d4cd-45fc-4c1f-9886-a8f9e0875a7b"
      },
      "execution_count": 18,
      "outputs": [
        {
          "output_type": "stream",
          "name": "stdout",
          "text": [
            "Grados f: 3\n",
            "C  -16.11111111111111\n"
          ]
        }
      ]
    },
    {
      "cell_type": "code",
      "source": [
        "#ejercicio de celcius a kelvin\n",
        "def celciusKelvin(c):\n",
        "  return c + 273.15"
      ],
      "metadata": {
        "id": "yQYpk-QhRzTb"
      },
      "execution_count": 19,
      "outputs": []
    },
    {
      "cell_type": "code",
      "source": [
        "c= float(input(\"Grados c: \"))\n",
        "k= celciusKelvin(c)\n",
        "print(\"K \",k)"
      ],
      "metadata": {
        "colab": {
          "base_uri": "https://localhost:8080/"
        },
        "id": "FdGv9pLbR3fk",
        "outputId": "f00221ff-dcdb-4da5-c2c1-cc89b43d16dd"
      },
      "execution_count": 20,
      "outputs": [
        {
          "output_type": "stream",
          "name": "stdout",
          "text": [
            "Grados c: 2\n",
            "K  275.15\n"
          ]
        }
      ]
    },
    {
      "cell_type": "code",
      "source": [
        "#Ejercicio que calcule el suelto de un empleado segun el numero de horas trabajadas  y el valor de horas\n",
        "def sueldo(numHrs, valorXhr):\n",
        "    sueldo = numHrs * valorXhr * 30\n",
        "    return sueldo\n",
        "\n",
        "numHrs = float(input(\"Hrs: \"))\n",
        "valorXhr = float(input(\"valorXhr: \"))\n",
        "sueldo = sueldo(numHrs, valorXhr)\n",
        "print(\"sueldo: \", sueldo)"
      ],
      "metadata": {
        "colab": {
          "base_uri": "https://localhost:8080/"
        },
        "id": "QqP5Bl8rR-Hs",
        "outputId": "53f15550-5ae2-407a-a6a2-594374f91d3d"
      },
      "execution_count": 21,
      "outputs": [
        {
          "output_type": "stream",
          "name": "stdout",
          "text": [
            "Hrs: 5\n",
            "valorXhr: 1\n",
            "sueldo:  150.0\n"
          ]
        }
      ]
    },
    {
      "cell_type": "code",
      "source": [
        "#Ejercicio  que permita elevar un numero a un exponente\n",
        "\n",
        "def exponenciacion(b,e):\n",
        "  return b**e\n",
        "\n",
        "b = float(input(\"Base: \"))\n",
        "e = float(input(\"Exponente: \"))\n",
        "resultado = exponenciacion(b,e)\n",
        "print(\"El numero :\", b,\", elevado a\",e,\",el resultado es:\",resultado)"
      ],
      "metadata": {
        "colab": {
          "base_uri": "https://localhost:8080/"
        },
        "id": "zxy4ja7BSUHY",
        "outputId": "40caa258-1543-4004-8f88-cd8db146b6cb"
      },
      "execution_count": 22,
      "outputs": [
        {
          "output_type": "stream",
          "name": "stdout",
          "text": [
            "Base: 3\n",
            "Exponente: 1\n",
            "El numero : 3.0 , elevado a 1.0 ,el resultado es: 3.0\n"
          ]
        }
      ]
    },
    {
      "cell_type": "code",
      "source": [
        "#Uso de funcion lambda y preconstruidas con map, filter y reduce......................\n",
        "\n",
        "\n",
        "\n",
        "# ....We can't fix it if we never face it(Free)\n",
        "\n",
        "def suma(a, b):\n",
        "  return a + b\n",
        "\n",
        "a = float(input(\"Num1: \"))\n",
        "b = float(input(\"Num2: \"))\n",
        "resultado_suma = suma(a, b)\n",
        "print(\"La suma es:\", resultado_suma)"
      ],
      "metadata": {
        "colab": {
          "base_uri": "https://localhost:8080/"
        },
        "id": "c8UjhYrxTRYy",
        "outputId": "a22f72a7-6e54-4b40-ea46-c6213575a8d2"
      },
      "execution_count": 23,
      "outputs": [
        {
          "output_type": "stream",
          "name": "stdout",
          "text": [
            "Num1: 2\n",
            "Num2: 4\n",
            "La suma es: 6.0\n"
          ]
        }
      ]
    },
    {
      "cell_type": "code",
      "source": [
        "# Ejemplo de uso de una función anónima (lambda) para sumar\n",
        "a = float(input(\"Num1: \"))\n",
        "b = float(input(\"Num2: \"))\n",
        "\n",
        "sum_lambda = lambda a, b: a + b\n",
        "print(\"La suma de\", a, \"más\", b, \"es igual a\", sum_lambda(a, b))"
      ],
      "metadata": {
        "colab": {
          "base_uri": "https://localhost:8080/"
        },
        "id": "QocZmV45WAEy",
        "outputId": "c4cb6715-dcd3-4062-aa35-9f1e54c2a4ce"
      },
      "execution_count": 25,
      "outputs": [
        {
          "output_type": "stream",
          "name": "stdout",
          "text": [
            "Num1: 3\n",
            "Num2: 4\n",
            "La suma de 3.0 más 4.0 es igual a 7.0\n"
          ]
        }
      ]
    },
    {
      "cell_type": "code",
      "source": [
        "# map() con función tradicional\n",
        "def extraer_primera_letra(dia):\n",
        "  return dia[0]\n",
        "\n",
        "semana = [\"Domingo\", \"Lunes\", \"Martes\", \"Miércoles\", \"Jueves\", \"Viernes\", \"Sábado\"]\n",
        "\n",
        "primera_letra_dia = list(map(extraer_primera_letra, semana))\n",
        "print(primera_letra_dia)\n",
        "\n",
        "mayus_semana = list(map(lambda dia: dia.upper(), semana))\n",
        "print(mayus_semana)"
      ],
      "metadata": {
        "colab": {
          "base_uri": "https://localhost:8080/"
        },
        "id": "mMvGSeSKWLCD",
        "outputId": "e3d349b3-3e42-4f15-9ea5-aa14d1d7c2a3"
      },
      "execution_count": 26,
      "outputs": [
        {
          "output_type": "stream",
          "name": "stdout",
          "text": [
            "['D', 'L', 'M', 'M', 'J', 'V', 'S']\n",
            "['DOMINGO', 'LUNES', 'MARTES', 'MIÉRCOLES', 'JUEVES', 'VIERNES', 'SÁBADO']\n"
          ]
        }
      ]
    },
    {
      "cell_type": "code",
      "source": [
        "# map() para calcular la potencia de una lista de números\n",
        "numeros = [2, 4, 6, 8, 7, 9]\n",
        "potencia = int(input(\"Potencia: \"))\n",
        "\n",
        "numero_potencia = list(map(lambda num: num**potencia, numeros))\n",
        "print(numero_potencia)"
      ],
      "metadata": {
        "colab": {
          "base_uri": "https://localhost:8080/"
        },
        "id": "JIv_U45bW0hx",
        "outputId": "30e8810a-fd52-493c-86bb-1d7d0a573bfc"
      },
      "execution_count": 28,
      "outputs": [
        {
          "output_type": "stream",
          "name": "stdout",
          "text": [
            "Potencia: 3\n",
            "[8, 64, 216, 512, 343, 729]\n"
          ]
        }
      ]
    },
    {
      "cell_type": "code",
      "source": [
        "# map() para generar una tabla de multiplicar\n",
        "ntabla = int(input(\"Tabla:\"))\n",
        "numeros_tabla = [1, 2, 3, 4, 5, 6, 7, 8, 9, 10]\n",
        "\n",
        "tabla_multiplicar = list(map(lambda num: num * ntabla, numeros_tabla))\n",
        "print(tabla_multiplicar)"
      ],
      "metadata": {
        "colab": {
          "base_uri": "https://localhost:8080/"
        },
        "id": "jxOA_kVbW7L3",
        "outputId": "63a92a1d-ed37-46ce-9bbd-8d7b5576a7f2"
      },
      "execution_count": 29,
      "outputs": [
        {
          "output_type": "stream",
          "name": "stdout",
          "text": [
            "Tabla:4\n",
            "[4, 8, 12, 16, 20, 24, 28, 32, 36, 40]\n"
          ]
        }
      ]
    },
    {
      "cell_type": "code",
      "source": [
        "# filter() para encontrar números pares e impares\n",
        "serie = [5, 6, 9, 2, 7, 8]\n",
        "\n",
        "pares = list(filter(lambda num: num % 2 == 0, serie))\n",
        "print(\"Pares:\", pares)\n",
        "\n",
        "impares = list(filter(lambda num: num % 2 != 0, serie))\n",
        "print(\"Impares:\", impares)"
      ],
      "metadata": {
        "colab": {
          "base_uri": "https://localhost:8080/"
        },
        "id": "E9lVUZZ2XQ2a",
        "outputId": "05a318de-2661-4ffa-a3d1-7e1db4097fd0"
      },
      "execution_count": 30,
      "outputs": [
        {
          "output_type": "stream",
          "name": "stdout",
          "text": [
            "Pares: [6, 2, 8]\n",
            "Impares: [5, 9, 7]\n"
          ]
        }
      ]
    },
    {
      "cell_type": "code",
      "source": [
        "# filter() con entrada del usuario\n",
        "serie_user = input(\"Introduce una serie de números separados por comas (ej: 5,2,8,1): \")\n",
        "serie_user_lista = serie_user.split(\",\")\n",
        "\n",
        "pares_user = list(filter(lambda num: int(num) % 2 == 0, serie_user_lista))\n",
        "print(\"Pares:\", pares_user)\n",
        "\n",
        "impares_user = list(filter(lambda num: int(num) % 2 != 0, serie_user_lista))\n",
        "print(\"Impares:\", impares_user)"
      ],
      "metadata": {
        "colab": {
          "base_uri": "https://localhost:8080/"
        },
        "id": "oGXL80-IXZX6",
        "outputId": "11291ae2-b391-49b2-fcab-5dc9ec808131"
      },
      "execution_count": 31,
      "outputs": [
        {
          "output_type": "stream",
          "name": "stdout",
          "text": [
            "Introduce una serie de números separados por comas (ej: 5,2,8,1): 2,3,4,5\n",
            "Pares: ['2', '4']\n",
            "Impares: ['3', '5']\n"
          ]
        }
      ]
    },
    {
      "cell_type": "code",
      "source": [
        "# Hacer un ejercicio en python usando la funcion filter y lambda que de una serie de notas introducidas por el usuario,\n",
        "# establezca cuantos pasan la materia (>6) y cuantos se quedan (<6).\n",
        "\n",
        "notas_str = input(\"Introduce las notas separadas por comas (ej: 8,5,7.5,4): \")\n",
        "notas_lista = [float(nota) for nota in notas_str.split(\",\")]\n",
        "\n",
        "aprobados = list(filter(lambda nota: nota >= 6, notas_lista))\n",
        "reprobados = list(filter(lambda nota: nota < 6, notas_lista))\n",
        "\n",
        "print(f\"Notas aprobadas: {aprobados} ({len(aprobados)} alumnos)\")\n",
        "print(f\"Notas reprobadas: {reprobados} ({len(reprobados)} alumnos)\")"
      ],
      "metadata": {
        "colab": {
          "base_uri": "https://localhost:8080/"
        },
        "id": "uA4PAkRQXoIW",
        "outputId": "752e922e-3801-45a3-da14-0a3d3574cdf6"
      },
      "execution_count": 32,
      "outputs": [
        {
          "output_type": "stream",
          "name": "stdout",
          "text": [
            "Introduce las notas separadas por comas (ej: 8,5,7.5,4): 3,4,7,8,9\n",
            "Notas aprobadas: [7.0, 8.0, 9.0] (3 alumnos)\n",
            "Notas reprobadas: [3.0, 4.0] (2 alumnos)\n"
          ]
        }
      ]
    },
    {
      "cell_type": "code",
      "source": [
        "# reduce() para sumar todos los elementos de una lista\n",
        "from functools import reduce\n",
        "\n",
        "numeros = [5, 4, 9, 6, 8, 2, 3]\n",
        "\n",
        "suma_total = reduce(lambda acumulador, num: acumulador + num, numeros)\n",
        "print(\"La suma es:\", suma_total)\n",
        "\n",
        "suma_pares = reduce(lambda acumulador, num: acumulador + num, filter(lambda num: num % 2 == 0, numeros))\n",
        "print(\"La suma de los pares es:\", suma_pares)"
      ],
      "metadata": {
        "colab": {
          "base_uri": "https://localhost:8080/"
        },
        "id": "S9u3rmKDYG15",
        "outputId": "c9fe585f-6919-4f3e-cfab-61d8c0031310"
      },
      "execution_count": 33,
      "outputs": [
        {
          "output_type": "stream",
          "name": "stdout",
          "text": [
            "La suma es: 37\n",
            "La suma de los pares es: 20\n"
          ]
        }
      ]
    }
  ]
}
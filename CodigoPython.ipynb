{
  "nbformat": 4,
  "nbformat_minor": 0,
  "metadata": {
    "colab": {
      "provenance": [],
      "authorship_tag": "ABX9TyOSI8YYDNC8VALrRX0SQKyD",
      "include_colab_link": true
    },
    "kernelspec": {
      "name": "python3",
      "display_name": "Python 3"
    },
    "language_info": {
      "name": "python"
    }
  },
  "cells": [
    {
      "cell_type": "markdown",
      "metadata": {
        "id": "view-in-github",
        "colab_type": "text"
      },
      "source": [
        "<a href=\"https://colab.research.google.com/github/LordShadow01/Programacion_lll/blob/main/CodigoPython.ipynb\" target=\"_parent\"><img src=\"https://colab.research.google.com/assets/colab-badge.svg\" alt=\"Open In Colab\"/></a>"
      ]
    },
    {
      "cell_type": "code",
      "execution_count": 3,
      "metadata": {
        "colab": {
          "base_uri": "https://localhost:8080/"
        },
        "id": "BCiVoZvWNolz",
        "outputId": "daf54a68-3298-4c80-f96a-1c2200b7e4b3"
      },
      "outputs": [
        {
          "output_type": "stream",
          "name": "stdout",
          "text": [
            "Hola Mundo\n",
            "Bienvenidos chicos a programacion computacional lll\n"
          ]
        }
      ],
      "source": [
        "print(\"Hola Mundo\")\n",
        "print(\"Bienvenidos chicos a programacion computacional lll\")"
      ]
    },
    {
      "cell_type": "code",
      "source": [
        "nombre = \"Jonathan Rosales\"\n",
        "edad = 20\n",
        "print(nombre, edad)\n",
        "\n",
        "edad = \"Veinte\"\n",
        "print(\"Tu edad es\", edad)"
      ],
      "metadata": {
        "colab": {
          "base_uri": "https://localhost:8080/"
        },
        "id": "LK4fKrZpOJjI",
        "outputId": "d6ec1e79-26f5-4dd1-f23d-3dcb08feec6f"
      },
      "execution_count": 5,
      "outputs": [
        {
          "output_type": "stream",
          "name": "stdout",
          "text": [
            "Jonathan Rosales 20\n",
            "Tu edad es Veinte\n"
          ]
        }
      ]
    },
    {
      "cell_type": "code",
      "source": [
        "num1 = 20\n",
        "num2= 8.9\n",
        "suma = num1 + num2\n",
        "print(\"la suma es:\",suma)"
      ],
      "metadata": {
        "colab": {
          "base_uri": "https://localhost:8080/"
        },
        "id": "kIcdVeS9Od0s",
        "outputId": "7ca98b70-3802-4e0b-fb2a-ec3b87fb7f1e"
      },
      "execution_count": 7,
      "outputs": [
        {
          "output_type": "stream",
          "name": "stdout",
          "text": [
            "la suma es: 28.9\n"
          ]
        }
      ]
    },
    {
      "cell_type": "code",
      "source": [
        "#Funciones\n",
        "\n",
        "num1 = float(input(\"Ingresa el primer número: \"))\n",
        "num2 = float(input(\"Ingresa el segundo número: \"))\n",
        "suma = num1 + num2\n",
        "print(\"La suma es:\", suma)\n"
      ],
      "metadata": {
        "colab": {
          "base_uri": "https://localhost:8080/"
        },
        "id": "5mtudcxuOlzQ",
        "outputId": "b15daf28-c5f9-4421-ff8b-d57a74caa6f1"
      },
      "execution_count": 11,
      "outputs": [
        {
          "output_type": "stream",
          "name": "stdout",
          "text": [
            "Ingresa el primer número: 2\n",
            "Ingresa el segundo número: 2\n",
            "La suma es: 4.0\n"
          ]
        }
      ]
    },
    {
      "cell_type": "code",
      "source": [
        "num1 = float(input(\"Num1: \"))\n",
        "num2 = float(input(\"Num2: \"))\n",
        "resta = num1 - num2\n",
        "print(\"La resta es:\", resta)\n"
      ],
      "metadata": {
        "colab": {
          "base_uri": "https://localhost:8080/"
        },
        "id": "2vOr5waHP8mc",
        "outputId": "45ac7d02-2448-45d0-b3f9-999c07e9534f"
      },
      "execution_count": 12,
      "outputs": [
        {
          "output_type": "stream",
          "name": "stdout",
          "text": [
            "Num1: 3\n",
            "Num2: 2\n",
            "La resta es: 1.0\n"
          ]
        }
      ]
    }
  ]
}
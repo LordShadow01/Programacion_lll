{
  "nbformat": 4,
  "nbformat_minor": 0,
  "metadata": {
    "colab": {
      "provenance": [],
      "authorship_tag": "ABX9TyNRdCY//Faub0pYZghfT4z5",
      "include_colab_link": true
    },
    "kernelspec": {
      "name": "python3",
      "display_name": "Python 3"
    },
    "language_info": {
      "name": "python"
    }
  },
  "cells": [
    {
      "cell_type": "markdown",
      "metadata": {
        "id": "view-in-github",
        "colab_type": "text"
      },
      "source": [
        "<a href=\"https://colab.research.google.com/github/LordShadow01/Programacion_lll/blob/main/CodigoPython.ipynb\" target=\"_parent\"><img src=\"https://colab.research.google.com/assets/colab-badge.svg\" alt=\"Open In Colab\"/></a>"
      ]
    },
    {
      "cell_type": "code",
      "execution_count": 3,
      "metadata": {
        "colab": {
          "base_uri": "https://localhost:8080/"
        },
        "id": "BCiVoZvWNolz",
        "outputId": "daf54a68-3298-4c80-f96a-1c2200b7e4b3"
      },
      "outputs": [
        {
          "output_type": "stream",
          "name": "stdout",
          "text": [
            "Hola Mundo\n",
            "Bienvenidos chicos a programacion computacional lll\n"
          ]
        }
      ],
      "source": [
        "print(\"Hola Mundo\")\n",
        "print(\"Bienvenidos chicos a programacion computacional lll\")"
      ]
    },
    {
      "cell_type": "code",
      "source": [
        "nombre = \"Jonathan Rosales\"\n",
        "edad = 20\n",
        "print(nombre, edad)\n",
        "\n",
        "edad = \"Veinte\"\n",
        "print(\"Tu edad es\", edad)"
      ],
      "metadata": {
        "colab": {
          "base_uri": "https://localhost:8080/"
        },
        "id": "LK4fKrZpOJjI",
        "outputId": "d6ec1e79-26f5-4dd1-f23d-3dcb08feec6f"
      },
      "execution_count": 5,
      "outputs": [
        {
          "output_type": "stream",
          "name": "stdout",
          "text": [
            "Jonathan Rosales 20\n",
            "Tu edad es Veinte\n"
          ]
        }
      ]
    },
    {
      "cell_type": "code",
      "source": [
        "num1 = 20\n",
        "num2= 8.9\n",
        "suma = num1 + num2\n",
        "print(\"la suma es:\",suma)"
      ],
      "metadata": {
        "colab": {
          "base_uri": "https://localhost:8080/"
        },
        "id": "kIcdVeS9Od0s",
        "outputId": "7ca98b70-3802-4e0b-fb2a-ec3b87fb7f1e"
      },
      "execution_count": 7,
      "outputs": [
        {
          "output_type": "stream",
          "name": "stdout",
          "text": [
            "la suma es: 28.9\n"
          ]
        }
      ]
    },
    {
      "cell_type": "code",
      "source": [
        "#Funciones\n",
        "\n",
        "num1 = float(input(\"Ingresa el primer número: \"))\n",
        "num2 = float(input(\"Ingresa el segundo número: \"))\n",
        "suma = num1 + num2\n",
        "print(\"La suma es:\", suma)\n"
      ],
      "metadata": {
        "colab": {
          "base_uri": "https://localhost:8080/"
        },
        "id": "5mtudcxuOlzQ",
        "outputId": "b15daf28-c5f9-4421-ff8b-d57a74caa6f1"
      },
      "execution_count": 11,
      "outputs": [
        {
          "output_type": "stream",
          "name": "stdout",
          "text": [
            "Ingresa el primer número: 2\n",
            "Ingresa el segundo número: 2\n",
            "La suma es: 4.0\n"
          ]
        }
      ]
    },
    {
      "cell_type": "code",
      "source": [
        "num1 = float(input(\"Num1: \"))\n",
        "num2 = float(input(\"Num2: \"))\n",
        "resta = num1 - num2\n",
        "print(\"La resta es:\", resta)\n"
      ],
      "metadata": {
        "colab": {
          "base_uri": "https://localhost:8080/"
        },
        "id": "2vOr5waHP8mc",
        "outputId": "45ac7d02-2448-45d0-b3f9-999c07e9534f"
      },
      "execution_count": 12,
      "outputs": [
        {
          "output_type": "stream",
          "name": "stdout",
          "text": [
            "Num1: 3\n",
            "Num2: 2\n",
            "La resta es: 1.0\n"
          ]
        }
      ]
    },
    {
      "cell_type": "code",
      "source": [
        "#Uso de Funciones Y Tarea\n",
        "#Resta\n",
        "res1 = int(input(\"ingrese el primer numero: \"))\n",
        "res2 = int(input(\"ingrese el segundo numero: \"))\n",
        "\n",
        "Respuesta = res1 - res2\n",
        "print(\"la resta de los numeros es:\", Respuesta)\n",
        "\n"
      ],
      "metadata": {
        "colab": {
          "base_uri": "https://localhost:8080/"
        },
        "id": "pIYPMQSAQqlq",
        "outputId": "db9cc47a-62be-4d73-a460-bb8e338db815"
      },
      "execution_count": 13,
      "outputs": [
        {
          "output_type": "stream",
          "name": "stdout",
          "text": [
            "ingrese el primer numero: 2\n",
            "ingrese el segundo numero: 2\n",
            "la resta de los numeros es: 0\n"
          ]
        }
      ]
    },
    {
      "cell_type": "code",
      "source": [
        "#Resta de 2 Numeros\n",
        "def restar_dos_numeros():\n",
        "    num1 = int(input(\"Ingrese el primer número: \"))\n",
        "    num2 = int(input(\"Ingrese el segundo número: \"))\n",
        "    return num1 - num2\n",
        "\n",
        "# Usando el resultado\n",
        "resultado = restar_dos_numeros()\n",
        "print(\"La resta de los números es:\", resultado)"
      ],
      "metadata": {
        "colab": {
          "base_uri": "https://localhost:8080/"
        },
        "id": "tnkIebf0RB2O",
        "outputId": "0a1cdd81-3e9a-4d72-9c73-f41e330f84e1"
      },
      "execution_count": 14,
      "outputs": [
        {
          "output_type": "stream",
          "name": "stdout",
          "text": [
            "Ingrese el primer número: 5\n",
            "Ingrese el segundo número: 4\n",
            "La resta de los números es: 1\n"
          ]
        }
      ]
    },
    {
      "cell_type": "code",
      "source": [
        "#Hacer un ejercicio en python haciendo uso de las funciones , que reste dos numeros introducirlos por el usuario Tarea....\n",
        "\n",
        "\n",
        "#Ejercicio que convierta grados celcius a farenheit\n",
        "def  celciusFarenheit(c):\n",
        "  return c*1.8 + 32"
      ],
      "metadata": {
        "id": "Zkxm4FZ9RQWu"
      },
      "execution_count": 15,
      "outputs": []
    },
    {
      "cell_type": "code",
      "source": [
        "c= int(input(\"Grados c: \"))\n",
        "f= celciusFarenheit(c)\n",
        "print(\"F \",f)"
      ],
      "metadata": {
        "colab": {
          "base_uri": "https://localhost:8080/"
        },
        "id": "4Vcs0eNDRfxK",
        "outputId": "ced60703-1fb4-4218-cf8d-a09de1a564c1"
      },
      "execution_count": 16,
      "outputs": [
        {
          "output_type": "stream",
          "name": "stdout",
          "text": [
            "Grados c: 4\n",
            "F  39.2\n"
          ]
        }
      ]
    },
    {
      "cell_type": "code",
      "source": [
        "#ejercicio de grados farenheit a celcius\n",
        "def farenheitCelcius(f):\n",
        "  return (f-32) / 1.8 #5/9"
      ],
      "metadata": {
        "id": "HVHJi29QRo8D"
      },
      "execution_count": 17,
      "outputs": []
    },
    {
      "cell_type": "code",
      "source": [
        "f= float(input(\"Grados f: \"))\n",
        "c= farenheitCelcius(f)\n",
        "print(\"C \",c)"
      ],
      "metadata": {
        "colab": {
          "base_uri": "https://localhost:8080/"
        },
        "id": "6gbuMnp5Rtw1",
        "outputId": "1bd3d4cd-45fc-4c1f-9886-a8f9e0875a7b"
      },
      "execution_count": 18,
      "outputs": [
        {
          "output_type": "stream",
          "name": "stdout",
          "text": [
            "Grados f: 3\n",
            "C  -16.11111111111111\n"
          ]
        }
      ]
    },
    {
      "cell_type": "code",
      "source": [
        "#ejercicio de celcius a kelvin\n",
        "def celciusKelvin(c):\n",
        "  return c + 273.15"
      ],
      "metadata": {
        "id": "yQYpk-QhRzTb"
      },
      "execution_count": 19,
      "outputs": []
    },
    {
      "cell_type": "code",
      "source": [
        "c= float(input(\"Grados c: \"))\n",
        "k= celciusKelvin(c)\n",
        "print(\"K \",k)"
      ],
      "metadata": {
        "colab": {
          "base_uri": "https://localhost:8080/"
        },
        "id": "FdGv9pLbR3fk",
        "outputId": "f00221ff-dcdb-4da5-c2c1-cc89b43d16dd"
      },
      "execution_count": 20,
      "outputs": [
        {
          "output_type": "stream",
          "name": "stdout",
          "text": [
            "Grados c: 2\n",
            "K  275.15\n"
          ]
        }
      ]
    },
    {
      "cell_type": "code",
      "source": [
        "#Ejercicio que calcule el suelto de un empleado segun el numero de horas trabajadas  y el valor de horas\n",
        "def sueldo(numHrs, valorXhr):\n",
        "    sueldo = numHrs * valorXhr * 30\n",
        "    return sueldo\n",
        "\n",
        "numHrs = float(input(\"Hrs: \"))\n",
        "valorXhr = float(input(\"valorXhr: \"))\n",
        "sueldo = sueldo(numHrs, valorXhr)\n",
        "print(\"sueldo: \", sueldo)"
      ],
      "metadata": {
        "colab": {
          "base_uri": "https://localhost:8080/"
        },
        "id": "QqP5Bl8rR-Hs",
        "outputId": "53f15550-5ae2-407a-a6a2-594374f91d3d"
      },
      "execution_count": 21,
      "outputs": [
        {
          "output_type": "stream",
          "name": "stdout",
          "text": [
            "Hrs: 5\n",
            "valorXhr: 1\n",
            "sueldo:  150.0\n"
          ]
        }
      ]
    },
    {
      "cell_type": "code",
      "source": [
        "#Ejercicio  que permita elevar un numero a un exponente\n",
        "\n",
        "def exponenciacion(b,e):\n",
        "  return b**e\n",
        "\n",
        "b = float(input(\"Base: \"))\n",
        "e = float(input(\"Exponente: \"))\n",
        "resultado = exponenciacion(b,e)\n",
        "print(\"El numero :\", b,\", elevado a\",e,\",el resultado es:\",resultado)"
      ],
      "metadata": {
        "colab": {
          "base_uri": "https://localhost:8080/"
        },
        "id": "zxy4ja7BSUHY",
        "outputId": "40caa258-1543-4004-8f88-cd8db146b6cb"
      },
      "execution_count": 22,
      "outputs": [
        {
          "output_type": "stream",
          "name": "stdout",
          "text": [
            "Base: 3\n",
            "Exponente: 1\n",
            "El numero : 3.0 , elevado a 1.0 ,el resultado es: 3.0\n"
          ]
        }
      ]
    }
  ]
}